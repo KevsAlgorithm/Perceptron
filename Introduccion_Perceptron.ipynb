{
 "cells": [
  {
   "cell_type": "markdown",
   "metadata": {},
   "source": [
    "Equipo:\n",
    "* Bravo Martínez Ariel Miguel - 10018737\n",
    "* Ehrlich López Alexandra - 10018739\n",
    "* Hernández Jaramillo Kevin - 10018742"
   ]
  },
  {
   "cell_type": "markdown",
   "metadata": {
    "id": "U44N1UcNEhjP"
   },
   "source": [
    "# Breve introducción al Perceptrón\n",
    "\n",
    "---\n",
    "El Perceptron simple, también conocido una red neuronal de una sola capa (**Single-Layer Neural Network**), es un algoritmo de clasificación binaria creado por Frank Rosenblatt a partir del modelo neuronal de Warren McCulloch y Walter Pitts desarrollado en 1943.\n",
    "\n",
    "---\n",
    "\n",
    "La neurona recibe impulsos externos (consideradas las entradas - inputs) con distinta importancia (o pesos) en una función de activación. Si el estímulo agregado sobrepasa cierto umbral, la neurona se activa.\n",
    "\n",
    "\n",
    "Matemáticamente, definimos x como el vector de estímulos y w como el vector de pesos, ambos m dimensiones, y z como la función de activación.\n",
    "\n",
    "$$ w=[w1⋮wm],x=[x1⋮xm]$$ \n",
    "\n",
    "$$z= wT*x $$\n",
    "\n",
    "$$z = w_1*x_1+…+ w_m*x_m $$\n",
    "\n",
    "---\n",
    "\n",
    "El perceptron ϕ(z) se considera activo cuando su valor es mayor o igual al umbral θ o inactivo en cualquier otro caso. Formalmente esta es una [función escalón](https://es.wikipedia.org/wiki/Funci%C3%B3n_escal%C3%B3n_de_Heaviside)."
   ]
  },
  {
   "cell_type": "markdown",
   "metadata": {
    "id": "KkTBS71EEhjQ"
   },
   "source": [
    "### La regla de aprendizaje\n",
    "\n",
    "El perceptron tiene una regla de aprendizaje bastante simple que le permite ir ajustando los valores de los pesos (w). Para ello, se siguen los siguientes pasos:\n",
    "\n",
    "1. Asignar un valor inicial a los pesos de 0 (cero) o valores pequeños al azar.\n",
    "2. Para cada muestra de entrenamiento x(i) hacer lo siguiente\n",
    "    * Computar el valor de salida y^.\n",
    "    * Actualizar los pesos.\n",
    "\n",
    "La actualización de los pesos se hace incrementando o disminuyéndolos en Δwj\n",
    "\n",
    "$$w_j=w_j+Δw_j$$\n",
    "\n",
    "$$Δw_j=η(y^i–\\hat{y}^i)x_j^i$$\n",
    "\n",
    "Donde:\n",
    "\n",
    "* $η$ es la tasa de aprendizaje que es un valor entre 0 y 1.0\n",
    "* $y^i$ es el valor real\n",
    "* $\\hat{y}^i$ es el valor de salida calculado (notar el sombrero en la y)\n",
    "* $x_j^i$ es el valor de la muestra asociado\n",
    "\n",
    "Esto implica que si el valor real y el valor calculado son el mismo, w no es actualizado o mejor dicho Δwj=0 . Sin embargo, si hubo un error en la predicción el valor será actualizado en la diferencia entre el valor real y el predicho, ajustado por el valor de la muestra y la tasa de aprendizaje."
   ]
  },
  {
   "cell_type": "markdown",
   "metadata": {
    "id": "10GCa_h6EhjR"
   },
   "source": [
    "## Implementando la regla del perceptron en python\n",
    "\n",
    "Puedes descargar el cuaderno de Jupyter desde el repositorio en Github y así ir siguiendo esta implementación paso a paso.\n",
    "\n",
    "Primero partiremos implementando un clase en python. Esta clase define los siguientes métodos:\n",
    "\n",
    "* __init__: Define la tasa de aprendizaje del algoritmo y el numero de pasadas a hacer por el set de datos.\n",
    "* fit: Implementa la regla de aprendizaje, definiendo inicialmente los pesos en 0 y luego ajustándolos a medida que calcula/predice el valor para cada fila del dataset.\n",
    "* predict: Es la función escalón ϕ(z). Si el valor de z es mayor igual a 0,\n",
    "    tiene por valor 1. En cualquier otro caso su valor es -1.\n",
    "* net_input: Es la implementación de la función de activación z. Si se fijan en el código, hace producto punto en los vectores x y w.\n"
   ]
  },
  {
   "cell_type": "code",
   "execution_count": 1,
   "metadata": {
    "id": "hotEx0U2EhjR"
   },
   "outputs": [],
   "source": [
    "import numpy as np\n",
    " \n",
    "class Perceptron:\n",
    "    \"\"\"Clasificador Perceptron basado en la descripción del libro\n",
    "    \"Python Machine Learning\" de Sebastian Raschka.\n",
    " \n",
    "    Parametros\n",
    "    ----------\n",
    " \n",
    "    eta: float\n",
    "        Tasa de aprendizaje.\n",
    "    n_iter: int\n",
    "        Pasadas sobre el dataset.\n",
    " \n",
    "    Atributos\n",
    "    ---------\n",
    "    w_: array-1d\n",
    "        Pesos actualizados después del ajuste\n",
    "    errors_: list\n",
    "        Cantidad de errores de clasificación en cada pasada\n",
    " \n",
    "    \"\"\"\n",
    "    def __init__(self, eta=0.1, n_iter=10):\n",
    "        self.eta = eta\n",
    "        self.n_iter = n_iter\n",
    " \n",
    "    def fit(self, X, y):\n",
    "        \"\"\"Ajustar datos de entrenamiento\n",
    " \n",
    "        Parámetros\n",
    "        ----------\n",
    "        X:  array like, forma = [n_samples, n_features]\n",
    "            Vectores de entrenamiento donde n_samples es el número de muestras y\n",
    "            n_features es el número de carácteristicas de cada muestra.\n",
    "        y:  array-like, forma = [n_samples].\n",
    "            Valores de destino\n",
    " \n",
    "        Returns\n",
    "        -------\n",
    "        self:   object\n",
    "        \"\"\"\n",
    "        self.w_ = np.zeros(1 + X.shape[1])\n",
    "        self.errors_ = []\n",
    " \n",
    "        for _ in range(self.n_iter):\n",
    "            errors = 0\n",
    "            for xi, target in zip(X, y):\n",
    "                update = self.eta * (target - self.predict(xi))\n",
    "                self.w_[1:] += update * xi\n",
    "                self.w_[0] += update\n",
    "                errors += int(update != 0.0)\n",
    "            self.errors_.append(errors)\n",
    "        return self\n",
    " \n",
    "    def predict(self, X):\n",
    "        \"\"\"Devolver clase usando función escalón de Heaviside.\n",
    "        phi(z) = 1 si z >= theta; -1 en otro caso\n",
    "        \"\"\"\n",
    "        phi = np.where(self.net_input(X) >= 0.0, 1, -1)\n",
    "        return phi\n",
    " \n",
    "    def net_input(self, X):\n",
    "        \"\"\"Calcular el valor z (net input)\"\"\"\n",
    "        # z = w · x + theta\n",
    "        z = np.dot(X, self.w_[1:]) + self.w_[0]\n",
    "        return z"
   ]
  },
  {
   "cell_type": "markdown",
   "metadata": {
    "id": "w01danp9EhjU"
   },
   "source": [
    "![img](https://media4.giphy.com/media/XcAa52ejGuNqdb5SFQ/giphy.gif)"
   ]
  },
  {
   "cell_type": "markdown",
   "metadata": {
    "id": "zOCzD71aEhjV"
   },
   "source": [
    "## ¿Cómo hacer un perceptrón?\n",
    "\n",
    "La estructura básica de un perceptrón es la siguiente:\n",
    "\n",
    "    Inputs: Datos con los cuales quieres clasificar.\n",
    "    Weights: Constantes que multiplican a incógnitas (inputs) de la ecuación.\n",
    "    Bias: Constante que permite que se tome una decisión.\n",
    "    Threshold: Punto que representa la división de las clasificaciones.\n",
    "    Output: Predicción de la clasificación.\n",
    "    \n",
    "---\n",
    "\n",
    "### Explicación general del proceso\n",
    "\n",
    "Los inputs son los valores con los que esperas obtener una respuesta (output). Cada input es multiplicado por el correspondiente weight (los cuales inician con valor aleatorio), luego los resultados son sumados junto con una constante (bias). Si este resultado supera el threshold determina un output x, de lo contrario determina un output y.\n",
    "\n",
    "![img](https://miro.medium.com/max/700/0*5fKjK9VwgX16PPp_)\n",
    "\n",
    "---\n",
    "\n",
    "Ahora, no solo se necesita eso, acabamos de ver que los weights iniciaron con valores aleatorios, cómo podrían valores aleatorios hacer predicciones? Pues se necesita entrenar a la neurona para modificar estos weights y obtener resultados precisos.\n",
    "\n",
    "### División de los datos para el entrenamiento\n",
    "\n",
    "Para el entrenamiento se necesitan datos, entre más datos, mejor. Siempre teniendo en cuenta que los datos deben ser significativos para el modelo.\n",
    "\n",
    "La regla con la que trabajaremos es:\n",
    "* 90% de los datos son para entrenar\n",
    "* 10% de los datos son para verificar la precisión\n",
    "\n",
    "---\n",
    "\n",
    "La razón por la que se elige la proporción de 90:10 es porque los datos para el ejercicio que realizaremos son muy poquitos y necesitamos la mayor cantidad de datos para entrenar el modelo.\n",
    "\n",
    "Nota Importante: Nunca verifiques la precisión del modelo con los datos con los que lo entrenaste, pues te estarías engañando a ti mismo.\n"
   ]
  },
  {
   "cell_type": "markdown",
   "metadata": {
    "id": "f2NnGw4iEhjW"
   },
   "source": [
    "## Ejercicios\n",
    "\n",
    "Proseguiremos ahora con dos ejemplos, uno completamente a mano (el cual lo puedes hacer en una hoja de papel) y otro en Python a “mano” (sin librerías de machine learning).\n",
    "\n",
    "### Ejercicio a mano\n",
    "\n",
    "Haremos que un perceptrón entienda lo que es un operador AND de dos variables. En este ejemplo no haremos un set de entrenamiento y un set de verificación de datos porque son muy pocos datos (sólo son 4). Este ejercicio es más para entender qué está pasando con los cálculos. Es decir, recibirá dos entradas y nos dará una salida, como la siguiente tabla:\n",
    "\n",
    "![img](https://miro.medium.com/max/327/0*JHgrPcQMDZxr2naT)"
   ]
  },
  {
   "cell_type": "code",
   "execution_count": 2,
   "metadata": {
    "id": "Ygw20G1lEhjW",
    "outputId": "7204c7d3-8544-4e4a-ca3f-3ea39c04e2db"
   },
   "outputs": [
    {
     "data": {
      "text/html": [
       "<div>\n",
       "<style scoped>\n",
       "    .dataframe tbody tr th:only-of-type {\n",
       "        vertical-align: middle;\n",
       "    }\n",
       "\n",
       "    .dataframe tbody tr th {\n",
       "        vertical-align: top;\n",
       "    }\n",
       "\n",
       "    .dataframe thead th {\n",
       "        text-align: right;\n",
       "    }\n",
       "</style>\n",
       "<table border=\"1\" class=\"dataframe\">\n",
       "  <thead>\n",
       "    <tr style=\"text-align: right;\">\n",
       "      <th></th>\n",
       "      <th>x</th>\n",
       "      <th>y</th>\n",
       "      <th>z</th>\n",
       "    </tr>\n",
       "  </thead>\n",
       "  <tbody>\n",
       "    <tr>\n",
       "      <th>0</th>\n",
       "      <td>0</td>\n",
       "      <td>0</td>\n",
       "      <td>0</td>\n",
       "    </tr>\n",
       "    <tr>\n",
       "      <th>1</th>\n",
       "      <td>0</td>\n",
       "      <td>1</td>\n",
       "      <td>0</td>\n",
       "    </tr>\n",
       "    <tr>\n",
       "      <th>2</th>\n",
       "      <td>1</td>\n",
       "      <td>0</td>\n",
       "      <td>0</td>\n",
       "    </tr>\n",
       "    <tr>\n",
       "      <th>3</th>\n",
       "      <td>1</td>\n",
       "      <td>1</td>\n",
       "      <td>1</td>\n",
       "    </tr>\n",
       "  </tbody>\n",
       "</table>\n",
       "</div>"
      ],
      "text/plain": [
       "   x  y  z\n",
       "0  0  0  0\n",
       "1  0  1  0\n",
       "2  1  0  0\n",
       "3  1  1  1"
      ]
     },
     "execution_count": 2,
     "metadata": {},
     "output_type": "execute_result"
    }
   ],
   "source": [
    "import numpy as np\n",
    "import pandas as pd\n",
    "\n",
    "d = {'x': [0,0,1,1], 'y': [0,1,0,1], 'z': [0,0,0,1]}\n",
    "df = pd.DataFrame(data=d)\n",
    "df"
   ]
  },
  {
   "cell_type": "markdown",
   "metadata": {
    "id": "IFckWYhhEhjZ"
   },
   "source": [
    "Si graficamos los puntos en un plano, tomando X y Y como coordenadas, quedaría algo como lo siguiente:\n",
    "\n",
    "![img](https://miro.medium.com/max/700/0*U24XRsEWlFjYuTjw)"
   ]
  },
  {
   "cell_type": "code",
   "execution_count": 3,
   "metadata": {
    "id": "-tV6O7GAEhja",
    "outputId": "8665ae18-0911-4dc9-9f72-f42f4c24f524"
   },
   "outputs": [
    {
     "data": {
      "image/png": "[encoded data removed]",
      "text/plain": [
       "<Figure size 432x288 with 1 Axes>"
      ]
     },
     "metadata": {
      "needs_background": "light"
     },
     "output_type": "display_data"
    }
   ],
   "source": [
    "from pylab import *\n",
    "import matplotlib.pyplot as plt\n",
    "\n",
    "x = df.x\n",
    "y = df.y\n",
    "color=['m','y','r','b']\n",
    "fig = plt.figure()\n",
    "ax = fig.add_subplot(111)\n",
    "scatter(x,y,marker='o', c=color)\n",
    "[ plot( [dot_x,dot_x] ,[0,dot_y], '-', linewidth = 3 ) for dot_x,dot_y in zip(x,y) ] \n",
    "[ plot( [0,dot_x] ,[dot_y,dot_y], '-', linewidth = 3 ) for dot_x,dot_y in zip(x,y) ]\n",
    "left,right = ax.get_xlim()\n",
    "low,high = ax.get_ylim()\n",
    "grid()\n",
    "show()"
   ]
  },
  {
   "cell_type": "markdown",
   "metadata": {
    "id": "HhUPaybpEhjd"
   },
   "source": [
    "Lo que buscamos es encontrar una ecuación que divida los puntos en base a su output, es decir los que tengan el output “0” pertenecen a un grupo y los que tengan el output “1\" pertenecen al otro grupo, algo como lo siguiente:\n",
    "\n",
    "![img](https://miro.medium.com/max/458/0*3_jfZSAhwJOSgSuA)\n",
    "\n",
    "---\n",
    "\n",
    "Ahora, esta recta puede ser representada por una ecuación, una ecuación tiene entradas ($x_i$) y a cada una la multiplicará un weight ($w_i$) y al final se le sumará una constante ($w_0$), la cual también es un peso. Nuestra ecuación solo tiene dos entradas ($X$ y $Y$), por lo que la ecuación queda de la siguiente forma:\n",
    "\n",
    "$$W_1 * X_1 + W_2*X_2 * W_0*bias$$\n",
    "\n",
    "---\n",
    "\n",
    "Esta ecuación deberá ser la línea que divida las categorías y nos permita clasificar, es decir esta ecuación nos dará una predicción cuando se introduzcan las entradas $x_1$ y $x_2$. Iniciaremos nuestros weights de forma aleatoria...\n",
    "\n",
    "Puedes sacar tus propios valores aleatorios o usar estos para no perderte en el procedimiento, los números generados aleatoriamente fueron: 0.03, 0.66 y 0.80."
   ]
  },
  {
   "cell_type": "code",
   "execution_count": 4,
   "metadata": {
    "id": "QLhmaYSwEhjd",
    "outputId": "7e39ddca-b6c7-4bed-9122-641ebf27206c"
   },
   "outputs": [
    {
     "data": {
      "text/plain": [
       "array([0.2501, 0.7506, 0.8837])"
      ]
     },
     "execution_count": 4,
     "metadata": {},
     "output_type": "execute_result"
    }
   ],
   "source": [
    "#Ejemplo...\n",
    "import numpy as np\n",
    "np.random.random_sample(3).round(4)"
   ]
  },
  {
   "cell_type": "markdown",
   "metadata": {
    "id": "tYCbVnvSEhjf"
   },
   "source": [
    "---\n",
    "A cada categoría se le será asociado un número (clase) que ayudará a ajustar los weights, un 1 y un -1, no importa cual escojas, sólo estamos determinando una clase a cada uno (y). Yo elegí -1 para el 0 y 1 para el 1. De la siguiente forma:\n",
    "\n",
    "![img](https://miro.medium.com/max/378/1*_fwM-ujfeK2CDyora1IbAw.png)"
   ]
  },
  {
   "cell_type": "markdown",
   "metadata": {
    "id": "DH9mFZ2UEhjg"
   },
   "source": [
    "### Reglas de ajuste de weights\n",
    "\n",
    "Cuando sustituyamos los valores en la ecuación nos dará una predicción, si nos da lo que esperamos (**predicción de clase correcta**) no hacemos nada y continuamos con el siguiente conjunto de datos, si nos da algo diferente de lo que esperamos (**predicción de clase incorrecta**), debemos ajustar los weights.\n",
    "\n",
    "Las decisiones para ajustar los weights son de la siguiente forma:\n",
    "\n",
    "    Si el resultado de la ecuación es mayor o igual a 0, la predicción de la clase es 1.\n",
    "    Si el resultado de la ecuación es menor a 0, la predicción de la clase es -1.\n",
    "    \n",
    "---\n",
    "\n",
    "Las fórmulas para ajustar los weights son las siguientes:\n",
    "\n",
    "$$ W_0 = W_0 + clase * bias $$\n",
    "\n",
    "$$ W_n = W_n + clase * X_n $$\n",
    "\n",
    "***Recuerda que la clase puede ser 1 o -1, el cual nos ayuda a entender la predicción del perceptrón.**"
   ]
  },
  {
   "cell_type": "markdown",
   "metadata": {
    "id": "xgsvQq5bEhjg"
   },
   "source": [
    "## Entrenamiento a mano"
   ]
  },
  {
   "cell_type": "markdown",
   "metadata": {
    "id": "bKff7QuQEhjg"
   },
   "source": [
    "Empezaremos a introducir los datos en nuestra ecuación : $w_0 + w_1*x_1 + w_2*x_2$\n",
    "\n",
    "---\n",
    "\n",
    "* Primer conjunto de datos\n",
    "\n",
    "Con $x_1$=0, $x_2$=0, $y$=0, $clase$ = -1\n",
    "\n",
    "$0.03 + (0.66) * (0) + (0.8) * (0) = 0.03$ -> Predicción de clase: 1"
   ]
  },
  {
   "cell_type": "code",
   "execution_count": 5,
   "metadata": {
    "id": "ltapvMAaEhjh",
    "outputId": "ae2adbc3-964b-4d4e-e16a-36b7c91410ac"
   },
   "outputs": [
    {
     "data": {
      "text/plain": [
       "0.03"
      ]
     },
     "execution_count": 5,
     "metadata": {},
     "output_type": "execute_result"
    }
   ],
   "source": [
    "x1 = 0\n",
    "x2 = 0\n",
    "y = 0\n",
    "clase = -1\n",
    "\n",
    "0.03 + (0.66)*x1 + (0.8)*x2 "
   ]
  },
  {
   "cell_type": "markdown",
   "metadata": {
    "id": "4qIzGPWPEhjj"
   },
   "source": [
    "La predicción de la clase fue 1 cuando esperamos -1, la predicción fue errónea, así que tenemos que ajustar los weights.\n",
    "\n",
    "Ajuste de weights con las fórmulas antes mencionadas:\n",
    "\n",
    "$w_0 = 0.03 + (-1)*1 = -0.97$\n",
    "\n",
    "$w_1 = 0.66 + (-1)*(0) = 0.66$\n",
    "\n",
    "$w_2 = 0.8 + (-1)*(0) = 0.8$"
   ]
  },
  {
   "cell_type": "markdown",
   "metadata": {
    "id": "F7FVcNktEhjk"
   },
   "source": [
    "* Segundo conjunto de datos\n",
    "\n",
    "Con $x_1$=0, $x_2$=1, $y$=0, $clase$ = -1\n",
    "\n",
    "$- 0.97 + (0.66)*(0) + (0.8)*(1) = — 0.17$ -> Predicción de -1"
   ]
  },
  {
   "cell_type": "code",
   "execution_count": 6,
   "metadata": {
    "id": "oAA10AwEEhjk",
    "outputId": "56beadd8-0a8f-4f06-f3b7-b891b271ca96"
   },
   "outputs": [
    {
     "data": {
      "text/plain": [
       "-0.16999999999999993"
      ]
     },
     "execution_count": 6,
     "metadata": {},
     "output_type": "execute_result"
    }
   ],
   "source": [
    "x1 = 0\n",
    "x2 = 1\n",
    "y = 0\n",
    "clase = -1\n",
    "\n",
    "-0.97 + (0.66)*x1 + (0.8)*x2 "
   ]
  },
  {
   "cell_type": "markdown",
   "metadata": {
    "id": "qGdhFvHiEhjn"
   },
   "source": [
    "* Tercer conjunto de datos\n",
    "\n",
    "Con $x_1$=1, $x_2$=0, $y$=0, $clase$ = -1\n",
    "\n",
    "$- 0.97 + (0.66)*(1) + (0.8)*(0) = — 0.31$ -> Predicción de -1\n",
    "\n",
    "---\n",
    "\n",
    "* Cuarto conjunto de datos\n",
    "\n",
    "Con $x_1$=1, $x_2$=1, $y$=1, $clase$ = 1\n",
    "\n",
    "$- 0.97 + (0.66)*(1) + (0.8)*(1) = 0.49$ -> Predicción de 1"
   ]
  },
  {
   "cell_type": "code",
   "execution_count": 7,
   "metadata": {
    "id": "DhmPLBGhEhjn",
    "outputId": "a883cfcd-83a2-4731-886b-a5b2d806370c"
   },
   "outputs": [
    {
     "name": "stdout",
     "output_type": "stream",
     "text": [
      "-0.30999999999999994\n",
      "0.4900000000000001\n"
     ]
    }
   ],
   "source": [
    "x1 = 1\n",
    "x2 = 0\n",
    "y = 0\n",
    "clase = -1\n",
    "\n",
    "print(-0.97 + (0.66)*x1 + (0.8)*x2)\n",
    "\n",
    "x3 = 1\n",
    "x4 = 1\n",
    "y = 1\n",
    "clase = 1\n",
    "\n",
    "print(-0.97 + (0.66)*x3 + (0.8)*x4)"
   ]
  },
  {
   "cell_type": "markdown",
   "metadata": {
    "id": "bXaFP7lDEhjq"
   },
   "source": [
    "Acabamos con todos los datos, pero uno fue erróneo, así que iniciaremos con otra época (presentación completa del dataset a aprender), lo que significa que volveremos a usar los datos de nuevo."
   ]
  },
  {
   "cell_type": "markdown",
   "metadata": {
    "id": "DtuYurtgEhjq"
   },
   "source": [
    "Primer conjunto de datos\n",
    "\n",
    "Con $x_1$=0, $x_2$=0, $y$=0, $clase$ = -1\n",
    "\n",
    "$- 0.97 + (0.66) * (0) + (0.8) * (0) = — 0.97 $-> Predicción de -1\n",
    "\n",
    "---\n",
    "\n",
    "Podríamos continuar pero la única predicción que nos faltaba acaba de ser correcta así que terminamos de ajustar los weights aquí.\n",
    "\n",
    "---\n",
    "\n",
    "### Pero **¿qué representan estos weights?** \n",
    "\n",
    "Pues son las constantes que multiplican a incógnitas (inputs) de la ecuación, sólo recuerda que el $w_0$ multiplica a un 1, es decir, es una constante. Podemos hacer la ecuación de una recta con estos weights, de la siguiente forma:\n",
    "\n",
    "$- 0.97 + 0.66x + 0.8y$\n",
    "\n",
    "En la cual podemos despejar la y para tener una ecuación más bonita:\n",
    "\n",
    "$y = (0.97 - 0.66x) / 0.8$\n",
    "\n",
    "$y = 1.2125 - 0.825 x$\n",
    "\n",
    "-------\n",
    "\n",
    "![img](https://miro.medium.com/max/700/1*BxtvMLDTxLYQwwpOGwszdA.png)"
   ]
  },
  {
   "cell_type": "markdown",
   "metadata": {
    "id": "1Lx9z-U0Ehjq"
   },
   "source": [
    "Cuando se obtenga la recta ahora sólo necesitamos evaluarla con los puntos y nos dirá de qué lado de la recta se encuentra, y así es como determinamos a qué clase pertenecen los puntos. Este ejemplo es un poco tramposo porque son muy pocos datos y cuando lo graficamos es totalmente comprensible, pero sirve para entender qué está pasando..."
   ]
  },
  {
   "cell_type": "code",
   "execution_count": 8,
   "metadata": {
    "id": "q940aVU6Ehjr",
    "outputId": "b0582e10-7ebc-4f3c-f573-07ff8a3c5bed"
   },
   "outputs": [
    {
     "data": {
      "text/html": [
       "<div>\n",
       "<style scoped>\n",
       "    .dataframe tbody tr th:only-of-type {\n",
       "        vertical-align: middle;\n",
       "    }\n",
       "\n",
       "    .dataframe tbody tr th {\n",
       "        vertical-align: top;\n",
       "    }\n",
       "\n",
       "    .dataframe thead th {\n",
       "        text-align: right;\n",
       "    }\n",
       "</style>\n",
       "<table border=\"1\" class=\"dataframe\">\n",
       "  <thead>\n",
       "    <tr style=\"text-align: right;\">\n",
       "      <th></th>\n",
       "      <th>sepal_length</th>\n",
       "      <th>sepal_width</th>\n",
       "      <th>petal_length</th>\n",
       "      <th>petal_width</th>\n",
       "      <th>species</th>\n",
       "    </tr>\n",
       "  </thead>\n",
       "  <tbody>\n",
       "    <tr>\n",
       "      <th>0</th>\n",
       "      <td>5.1</td>\n",
       "      <td>3.5</td>\n",
       "      <td>1.4</td>\n",
       "      <td>0.2</td>\n",
       "      <td>setosa</td>\n",
       "    </tr>\n",
       "    <tr>\n",
       "      <th>1</th>\n",
       "      <td>4.9</td>\n",
       "      <td>3.0</td>\n",
       "      <td>1.4</td>\n",
       "      <td>0.2</td>\n",
       "      <td>setosa</td>\n",
       "    </tr>\n",
       "    <tr>\n",
       "      <th>2</th>\n",
       "      <td>4.7</td>\n",
       "      <td>3.2</td>\n",
       "      <td>1.3</td>\n",
       "      <td>0.2</td>\n",
       "      <td>setosa</td>\n",
       "    </tr>\n",
       "    <tr>\n",
       "      <th>3</th>\n",
       "      <td>4.6</td>\n",
       "      <td>3.1</td>\n",
       "      <td>1.5</td>\n",
       "      <td>0.2</td>\n",
       "      <td>setosa</td>\n",
       "    </tr>\n",
       "    <tr>\n",
       "      <th>4</th>\n",
       "      <td>5.0</td>\n",
       "      <td>3.6</td>\n",
       "      <td>1.4</td>\n",
       "      <td>0.2</td>\n",
       "      <td>setosa</td>\n",
       "    </tr>\n",
       "    <tr>\n",
       "      <th>...</th>\n",
       "      <td>...</td>\n",
       "      <td>...</td>\n",
       "      <td>...</td>\n",
       "      <td>...</td>\n",
       "      <td>...</td>\n",
       "    </tr>\n",
       "    <tr>\n",
       "      <th>145</th>\n",
       "      <td>6.7</td>\n",
       "      <td>3.0</td>\n",
       "      <td>5.2</td>\n",
       "      <td>2.3</td>\n",
       "      <td>virginica</td>\n",
       "    </tr>\n",
       "    <tr>\n",
       "      <th>146</th>\n",
       "      <td>6.3</td>\n",
       "      <td>2.5</td>\n",
       "      <td>5.0</td>\n",
       "      <td>1.9</td>\n",
       "      <td>virginica</td>\n",
       "    </tr>\n",
       "    <tr>\n",
       "      <th>147</th>\n",
       "      <td>6.5</td>\n",
       "      <td>3.0</td>\n",
       "      <td>5.2</td>\n",
       "      <td>2.0</td>\n",
       "      <td>virginica</td>\n",
       "    </tr>\n",
       "    <tr>\n",
       "      <th>148</th>\n",
       "      <td>6.2</td>\n",
       "      <td>3.4</td>\n",
       "      <td>5.4</td>\n",
       "      <td>2.3</td>\n",
       "      <td>virginica</td>\n",
       "    </tr>\n",
       "    <tr>\n",
       "      <th>149</th>\n",
       "      <td>5.9</td>\n",
       "      <td>3.0</td>\n",
       "      <td>5.1</td>\n",
       "      <td>1.8</td>\n",
       "      <td>virginica</td>\n",
       "    </tr>\n",
       "  </tbody>\n",
       "</table>\n",
       "<p>150 rows × 5 columns</p>\n",
       "</div>"
      ],
      "text/plain": [
       "     sepal_length  sepal_width  petal_length  petal_width    species\n",
       "0             5.1          3.5           1.4          0.2     setosa\n",
       "1             4.9          3.0           1.4          0.2     setosa\n",
       "2             4.7          3.2           1.3          0.2     setosa\n",
       "3             4.6          3.1           1.5          0.2     setosa\n",
       "4             5.0          3.6           1.4          0.2     setosa\n",
       "..            ...          ...           ...          ...        ...\n",
       "145           6.7          3.0           5.2          2.3  virginica\n",
       "146           6.3          2.5           5.0          1.9  virginica\n",
       "147           6.5          3.0           5.2          2.0  virginica\n",
       "148           6.2          3.4           5.4          2.3  virginica\n",
       "149           5.9          3.0           5.1          1.8  virginica\n",
       "\n",
       "[150 rows x 5 columns]"
      ]
     },
     "execution_count": 8,
     "metadata": {},
     "output_type": "execute_result"
    }
   ],
   "source": [
    "### Ejercicio con Python\n",
    "\n",
    "import pandas as pd\n",
    "import seaborn as sns \n",
    "  \n",
    "iris = sns.load_dataset('iris') \n",
    "iris"
   ]
  },
  {
   "cell_type": "code",
   "execution_count": 10,
   "metadata": {
    "id": "MFzmU8N3Ehjt",
    "outputId": "43df32fa-8386-4b2e-a3df-9b48e2e582cf"
   },
   "outputs": [
    {
     "name": "stdout",
     "output_type": "stream",
     "text": [
      "100\n",
      "<class 'pandas.core.frame.DataFrame'>\n"
     ]
    },
    {
     "data": {
      "text/html": [
       "<div>\n",
       "<style scoped>\n",
       "    .dataframe tbody tr th:only-of-type {\n",
       "        vertical-align: middle;\n",
       "    }\n",
       "\n",
       "    .dataframe tbody tr th {\n",
       "        vertical-align: top;\n",
       "    }\n",
       "\n",
       "    .dataframe thead th {\n",
       "        text-align: right;\n",
       "    }\n",
       "</style>\n",
       "<table border=\"1\" class=\"dataframe\">\n",
       "  <thead>\n",
       "    <tr style=\"text-align: right;\">\n",
       "      <th></th>\n",
       "      <th>sepal_length</th>\n",
       "      <th>sepal_width</th>\n",
       "      <th>petal_length</th>\n",
       "      <th>petal_width</th>\n",
       "      <th>species</th>\n",
       "    </tr>\n",
       "  </thead>\n",
       "  <tbody>\n",
       "    <tr>\n",
       "      <th>0</th>\n",
       "      <td>5.1</td>\n",
       "      <td>3.5</td>\n",
       "      <td>1.4</td>\n",
       "      <td>0.2</td>\n",
       "      <td>setosa</td>\n",
       "    </tr>\n",
       "    <tr>\n",
       "      <th>1</th>\n",
       "      <td>4.9</td>\n",
       "      <td>3.0</td>\n",
       "      <td>1.4</td>\n",
       "      <td>0.2</td>\n",
       "      <td>setosa</td>\n",
       "    </tr>\n",
       "    <tr>\n",
       "      <th>2</th>\n",
       "      <td>4.7</td>\n",
       "      <td>3.2</td>\n",
       "      <td>1.3</td>\n",
       "      <td>0.2</td>\n",
       "      <td>setosa</td>\n",
       "    </tr>\n",
       "    <tr>\n",
       "      <th>3</th>\n",
       "      <td>4.6</td>\n",
       "      <td>3.1</td>\n",
       "      <td>1.5</td>\n",
       "      <td>0.2</td>\n",
       "      <td>setosa</td>\n",
       "    </tr>\n",
       "    <tr>\n",
       "      <th>4</th>\n",
       "      <td>5.0</td>\n",
       "      <td>3.6</td>\n",
       "      <td>1.4</td>\n",
       "      <td>0.2</td>\n",
       "      <td>setosa</td>\n",
       "    </tr>\n",
       "    <tr>\n",
       "      <th>...</th>\n",
       "      <td>...</td>\n",
       "      <td>...</td>\n",
       "      <td>...</td>\n",
       "      <td>...</td>\n",
       "      <td>...</td>\n",
       "    </tr>\n",
       "    <tr>\n",
       "      <th>95</th>\n",
       "      <td>5.7</td>\n",
       "      <td>3.0</td>\n",
       "      <td>4.2</td>\n",
       "      <td>1.2</td>\n",
       "      <td>versicolor</td>\n",
       "    </tr>\n",
       "    <tr>\n",
       "      <th>96</th>\n",
       "      <td>5.7</td>\n",
       "      <td>2.9</td>\n",
       "      <td>4.2</td>\n",
       "      <td>1.3</td>\n",
       "      <td>versicolor</td>\n",
       "    </tr>\n",
       "    <tr>\n",
       "      <th>97</th>\n",
       "      <td>6.2</td>\n",
       "      <td>2.9</td>\n",
       "      <td>4.3</td>\n",
       "      <td>1.3</td>\n",
       "      <td>versicolor</td>\n",
       "    </tr>\n",
       "    <tr>\n",
       "      <th>98</th>\n",
       "      <td>5.1</td>\n",
       "      <td>2.5</td>\n",
       "      <td>3.0</td>\n",
       "      <td>1.1</td>\n",
       "      <td>versicolor</td>\n",
       "    </tr>\n",
       "    <tr>\n",
       "      <th>99</th>\n",
       "      <td>5.7</td>\n",
       "      <td>2.8</td>\n",
       "      <td>4.1</td>\n",
       "      <td>1.3</td>\n",
       "      <td>versicolor</td>\n",
       "    </tr>\n",
       "  </tbody>\n",
       "</table>\n",
       "<p>100 rows × 5 columns</p>\n",
       "</div>"
      ],
      "text/plain": [
       "    sepal_length  sepal_width  petal_length  petal_width     species\n",
       "0            5.1          3.5           1.4          0.2      setosa\n",
       "1            4.9          3.0           1.4          0.2      setosa\n",
       "2            4.7          3.2           1.3          0.2      setosa\n",
       "3            4.6          3.1           1.5          0.2      setosa\n",
       "4            5.0          3.6           1.4          0.2      setosa\n",
       "..           ...          ...           ...          ...         ...\n",
       "95           5.7          3.0           4.2          1.2  versicolor\n",
       "96           5.7          2.9           4.2          1.3  versicolor\n",
       "97           6.2          2.9           4.3          1.3  versicolor\n",
       "98           5.1          2.5           3.0          1.1  versicolor\n",
       "99           5.7          2.8           4.1          1.3  versicolor\n",
       "\n",
       "[100 rows x 5 columns]"
      ]
     },
     "execution_count": 10,
     "metadata": {},
     "output_type": "execute_result"
    }
   ],
   "source": [
    "import random\n",
    "data_with_two_species = iris.iloc[:100,:]\n",
    "print(len(data_with_two_species))\n",
    "print(type(data_with_two_species))\n",
    "data_with_two_species"
   ]
  },
  {
   "cell_type": "code",
   "execution_count": 11,
   "metadata": {
    "id": "ghcCKrtoEhjw",
    "outputId": "7360a62b-6fbe-4640-94b2-70595f3df0c4"
   },
   "outputs": [
    {
     "data": {
      "text/html": [
       "<div>\n",
       "<style scoped>\n",
       "    .dataframe tbody tr th:only-of-type {\n",
       "        vertical-align: middle;\n",
       "    }\n",
       "\n",
       "    .dataframe tbody tr th {\n",
       "        vertical-align: top;\n",
       "    }\n",
       "\n",
       "    .dataframe thead th {\n",
       "        text-align: right;\n",
       "    }\n",
       "</style>\n",
       "<table border=\"1\" class=\"dataframe\">\n",
       "  <thead>\n",
       "    <tr style=\"text-align: right;\">\n",
       "      <th></th>\n",
       "      <th>sepal_length</th>\n",
       "      <th>sepal_width</th>\n",
       "      <th>petal_length</th>\n",
       "      <th>petal_width</th>\n",
       "      <th>species</th>\n",
       "    </tr>\n",
       "  </thead>\n",
       "  <tbody>\n",
       "    <tr>\n",
       "      <th>4</th>\n",
       "      <td>5.0</td>\n",
       "      <td>3.6</td>\n",
       "      <td>1.4</td>\n",
       "      <td>0.2</td>\n",
       "      <td>setosa</td>\n",
       "    </tr>\n",
       "    <tr>\n",
       "      <th>69</th>\n",
       "      <td>5.6</td>\n",
       "      <td>2.5</td>\n",
       "      <td>3.9</td>\n",
       "      <td>1.1</td>\n",
       "      <td>versicolor</td>\n",
       "    </tr>\n",
       "    <tr>\n",
       "      <th>73</th>\n",
       "      <td>6.1</td>\n",
       "      <td>2.8</td>\n",
       "      <td>4.7</td>\n",
       "      <td>1.2</td>\n",
       "      <td>versicolor</td>\n",
       "    </tr>\n",
       "    <tr>\n",
       "      <th>63</th>\n",
       "      <td>6.1</td>\n",
       "      <td>2.9</td>\n",
       "      <td>4.7</td>\n",
       "      <td>1.4</td>\n",
       "      <td>versicolor</td>\n",
       "    </tr>\n",
       "    <tr>\n",
       "      <th>44</th>\n",
       "      <td>5.1</td>\n",
       "      <td>3.8</td>\n",
       "      <td>1.9</td>\n",
       "      <td>0.4</td>\n",
       "      <td>setosa</td>\n",
       "    </tr>\n",
       "    <tr>\n",
       "      <th>...</th>\n",
       "      <td>...</td>\n",
       "      <td>...</td>\n",
       "      <td>...</td>\n",
       "      <td>...</td>\n",
       "      <td>...</td>\n",
       "    </tr>\n",
       "    <tr>\n",
       "      <th>28</th>\n",
       "      <td>5.2</td>\n",
       "      <td>3.4</td>\n",
       "      <td>1.4</td>\n",
       "      <td>0.2</td>\n",
       "      <td>setosa</td>\n",
       "    </tr>\n",
       "    <tr>\n",
       "      <th>11</th>\n",
       "      <td>4.8</td>\n",
       "      <td>3.4</td>\n",
       "      <td>1.6</td>\n",
       "      <td>0.2</td>\n",
       "      <td>setosa</td>\n",
       "    </tr>\n",
       "    <tr>\n",
       "      <th>70</th>\n",
       "      <td>5.9</td>\n",
       "      <td>3.2</td>\n",
       "      <td>4.8</td>\n",
       "      <td>1.8</td>\n",
       "      <td>versicolor</td>\n",
       "    </tr>\n",
       "    <tr>\n",
       "      <th>40</th>\n",
       "      <td>5.0</td>\n",
       "      <td>3.5</td>\n",
       "      <td>1.3</td>\n",
       "      <td>0.3</td>\n",
       "      <td>setosa</td>\n",
       "    </tr>\n",
       "    <tr>\n",
       "      <th>53</th>\n",
       "      <td>5.5</td>\n",
       "      <td>2.3</td>\n",
       "      <td>4.0</td>\n",
       "      <td>1.3</td>\n",
       "      <td>versicolor</td>\n",
       "    </tr>\n",
       "  </tbody>\n",
       "</table>\n",
       "<p>100 rows × 5 columns</p>\n",
       "</div>"
      ],
      "text/plain": [
       "    sepal_length  sepal_width  petal_length  petal_width     species\n",
       "4            5.0          3.6           1.4          0.2      setosa\n",
       "69           5.6          2.5           3.9          1.1  versicolor\n",
       "73           6.1          2.8           4.7          1.2  versicolor\n",
       "63           6.1          2.9           4.7          1.4  versicolor\n",
       "44           5.1          3.8           1.9          0.4      setosa\n",
       "..           ...          ...           ...          ...         ...\n",
       "28           5.2          3.4           1.4          0.2      setosa\n",
       "11           4.8          3.4           1.6          0.2      setosa\n",
       "70           5.9          3.2           4.8          1.8  versicolor\n",
       "40           5.0          3.5           1.3          0.3      setosa\n",
       "53           5.5          2.3           4.0          1.3  versicolor\n",
       "\n",
       "[100 rows x 5 columns]"
      ]
     },
     "execution_count": 11,
     "metadata": {},
     "output_type": "execute_result"
    }
   ],
   "source": [
    "from sklearn.utils import shuffle\n",
    "data_with_two_species = shuffle(data_with_two_species)\n",
    "data_with_two_species"
   ]
  },
  {
   "cell_type": "code",
   "execution_count": 12,
   "metadata": {
    "id": "5hwwZkRHEhjy"
   },
   "outputs": [],
   "source": [
    "data_training = data_with_two_species.iloc[:90, :]\n",
    "data_verification = data_with_two_species.iloc[:-10, :]"
   ]
  },
  {
   "cell_type": "markdown",
   "metadata": {
    "id": "LhTaygZkEhj0"
   },
   "source": [
    "Ahora para hacer todo más claro y entendible haré la clase Perceptrón que tenga los siguientes métodos:\n",
    "\n",
    "* generate_random_weights\n",
    "* train\n",
    "* predict\n",
    "* adjust_weights\n",
    "* verify\n",
    "\n",
    "El constructor de la clase Perceptrón recibirá el número de weights y un array de las dos clases que se mapean a -1 y 1."
   ]
  },
  {
   "cell_type": "code",
   "execution_count": 13,
   "metadata": {
    "id": "uIJSsIwBEhj0"
   },
   "outputs": [],
   "source": [
    "class Perceptron:\n",
    "    def __init__(self, number_of_weights, classes):\n",
    "        self.number_of_weights = number_of_weights\n",
    "        self.weights = self.generate_random_weights(number_of_weights)\n",
    "        self.dict_classes = { classes[0]:1, classes[1]:-1 }\n",
    "        \n",
    "    def generate_random_weights(self, n):\n",
    "        weights = []\n",
    "        for x in range(n):\n",
    "            weights.append(random.random()*10-5)\n",
    "        return weights\n",
    "\n",
    "    def predict(self, datum):\n",
    "        weights_without_bias = self.weights[1:self.number_of_weights]\n",
    "        attribute_values = datum[:self.number_of_weights-1]\n",
    "        weight_bias = self.weights[0]\n",
    "        activation = sum([i*j for i,j in zip(weights_without_bias,attribute_values)]) + weight_bias\n",
    "        return 1 if activation > 0 else -1\n",
    "    \n",
    "    def adjust_weights(self, real_class, datum):\n",
    "        self.weights[0] = self.weights[0] + real_class\n",
    "        for i in range(1,self.number_of_weights):\n",
    "            self.weights[i] = self.weights[i] + real_class * datum[i-1]\n",
    "            \n",
    "    def train(self, data, epochs):\n",
    "        for epoch in range(epochs):\n",
    "            print('Epoch {}'.format(epoch))\n",
    "            for datum in data:\n",
    "                real_class = self.dict_classes[datum[len(datum)-1]]\n",
    "                prediction_class = self.predict(datum)\n",
    "                if real_class != prediction_class:\n",
    "                    self.adjust_weights(real_class,datum)\n",
    "                    print('Adjusted weights: {}'.format(self.weights))\n",
    "            print('Final weights from epoch {}: {}'.format(epoch,self.weights))\n",
    "            \n",
    "    def verify(self, data):\n",
    "        count = 0\n",
    "        for datum in data:\n",
    "            real_class = self.dict_classes[datum[len(datum)-1]]\n",
    "            prediction_class = self.predict(datum)\n",
    "            if real_class != prediction_class:\n",
    "                count = count + 1\n",
    "        return (1-count/len(data))*100"
   ]
  },
  {
   "cell_type": "markdown",
   "metadata": {
    "id": "YEhQD6gPEhj2"
   },
   "source": [
    "La generación de weights aleatorios es muy sencilla, sólo intenta que abarquen números negativos y positivos, yo lo hice con un rango de -5 a 5 (puedes usar el rango que tu prefieras)"
   ]
  },
  {
   "cell_type": "code",
   "execution_count": 14,
   "metadata": {
    "id": "p1_w3FCSEhj3"
   },
   "outputs": [],
   "source": [
    "def generate_random_weights(self, n):\n",
    "    weights = []\n",
    "    for x in range(n):\n",
    "        weights.append(random.random()*10-5)\n",
    "    return weights"
   ]
  },
  {
   "cell_type": "markdown",
   "metadata": {
    "id": "5-Y06WLrEhj4"
   },
   "source": [
    "La predicción es la suma de las multiplicaciones de los atributos por los weights más el bias (el bias lo deje como el primer elemento del array weights). Si el resultado es positivo predecimos con un 1, de lo contrario predecimos con un -1."
   ]
  },
  {
   "cell_type": "code",
   "execution_count": 15,
   "metadata": {
    "id": "BwThTQcOEhj5"
   },
   "outputs": [],
   "source": [
    "def predict(self, datum):\n",
    "    weights_without_bias = self.weights[1:self.number_of_weights]\n",
    "    attribute_values = datum[:self.number_of_weights-1]\n",
    "    weight_bias = self.weights[0]\n",
    "    activation = sum([i*j for i,j in zip(weights_without_bias,attribute_values)]) + weight_bias\n",
    "    return 1 if activation > 0 else -1"
   ]
  },
  {
   "cell_type": "markdown",
   "metadata": {
    "id": "WPIGGXV8Ehj7"
   },
   "source": [
    "Ahora ¿Qué pasa si nuestra predicción es incorrecta?, tenemos que ajustar los weights, te recuerdo las fórmulas:\n",
    "\n",
    "$$w_0 = w_0 + clase * bias$$\n",
    "\n",
    "$$w_n = w_n + clase * x_n$$\n",
    "\n",
    "---\n",
    "\n",
    "La w es el weight, la clase es -1 o 1, x es el atributo y el bias siempre es 1. Con clase nos referimos a la clase real, no a la predicción."
   ]
  },
  {
   "cell_type": "code",
   "execution_count": 16,
   "metadata": {
    "id": "uDz7te9OEhj8"
   },
   "outputs": [],
   "source": [
    "def adjust_weights(self, real_class, datum):\n",
    "    self.weights[0] = self.weights[0] + real_class\n",
    "    for i in range(1,self.number_of_weights):\n",
    "        self.weights[i] = self.weights[i] + real_class * datum[i-1]"
   ]
  },
  {
   "cell_type": "markdown",
   "metadata": {
    "id": "v83mqx03Ehj9"
   },
   "source": [
    "Puedes notar que el único diferente es el bias, que lo que hacemos es simplemente sumarle la clase real. Los demás weights se calculan al sumarle la multiplicación de la clase real con el valor del atributo.\n",
    "\n",
    "Ahora simplemente el entrenamiento consiste en hacer una predicción, si ésta es correcta seguimos con lo siguientes datos, si es incorrecta ajustamos los weights."
   ]
  },
  {
   "cell_type": "code",
   "execution_count": 17,
   "metadata": {
    "id": "eadIiL9eEhj-"
   },
   "outputs": [],
   "source": [
    "def train(self, data, epochs):\n",
    "        for epoch in range(epochs):\n",
    "            print('Epoch {}'.format(epoch))\n",
    "            for datum in data:\n",
    "                real_class = self.dict_classes[datum[len(datum)-1]]\n",
    "                prediction_class = self.predict(datum)\n",
    "                if real_class != prediction_class:\n",
    "                    self.adjust_weights(real_class,datum)\n",
    "                    print('Adjusted weights: {}'.format(self.weights))\n",
    "            print('Final weights from epoch {}: {}'.format(epoch,self.weights))"
   ]
  },
  {
   "cell_type": "markdown",
   "metadata": {
    "id": "fh6ukiCCEhkA"
   },
   "source": [
    "Te darás cuenta de que recibe un atributo epochs, el cual indica cuántas veces iterará la misma información para ajustar cada vez más los weights.\n",
    "\n",
    "Por último, pero no menos importante, falta el método de verificación, qué es exactamente lo mismo que en el entrenamiento, sólo que aquí ya no se ajustan los weights. El método regresará en porcentaje cuántas predicciones fueron correctas."
   ]
  },
  {
   "cell_type": "code",
   "execution_count": 18,
   "metadata": {
    "id": "i-iGEa_AEhkA"
   },
   "outputs": [],
   "source": [
    "def verify(self, data):\n",
    "        count = 0\n",
    "        for datum in data:\n",
    "            real_class = self.dict_classes[datum[len(datum)-1]]\n",
    "            prediction_class = self.predict(datum)\n",
    "            if real_class != prediction_class:\n",
    "                count = count + 1\n",
    "        return (1-count/len(data))*100"
   ]
  },
  {
   "cell_type": "markdown",
   "metadata": {
    "id": "vfn2lYF1EhkC"
   },
   "source": [
    "Pues ya quedó listo el perceptrón, ahora solo falta utilizarlo, creamos un perceptrón y le daremos como parámetros el número de weights (el cual es 5, porque son 4 atributos + bias), y las clases que hemos cargado, en mi caso yo estoy comparando iris-setosa e iris-versicolor."
   ]
  },
  {
   "cell_type": "code",
   "execution_count": 19,
   "metadata": {
    "id": "rmIZPlN6EhkC"
   },
   "outputs": [],
   "source": [
    "perceptron = Perceptron(5, ['setosa', 'versicolor'])"
   ]
  },
  {
   "cell_type": "markdown",
   "metadata": {
    "id": "6AhVR8eDEhkE"
   },
   "source": [
    "Ahora lo entrenamos, le pasamos el set de datos de entrenamiento que obtuvimos antes y las épocas (en mi caso lo dejaré como 1). Cuando termine el método train los weights ya estarán ajustados, así que podremos imprimirlos para ver cómo quedaron."
   ]
  },
  {
   "cell_type": "code",
   "execution_count": 20,
   "metadata": {
    "id": "SLpE4UTxEhkF",
    "outputId": "f58cda75-d939-4856-9e96-a3effcccccb8"
   },
   "outputs": [
    {
     "name": "stdout",
     "output_type": "stream",
     "text": [
      "[[5.0 3.6 1.4 0.2 'setosa']\n",
      " [5.6 2.5 3.9 1.1 'versicolor']\n",
      " [6.1 2.8 4.7 1.2 'versicolor']\n",
      " [6.1 2.9 4.7 1.4 'versicolor']\n",
      " [5.1 3.8 1.9 0.4 'setosa']\n",
      " [6.1 3.0 4.6 1.4 'versicolor']\n",
      " [5.1 3.5 1.4 0.3 'setosa']\n",
      " [5.7 3.8 1.7 0.3 'setosa']\n",
      " [4.4 3.0 1.3 0.2 'setosa']\n",
      " [5.7 2.6 3.5 1.0 'versicolor']\n",
      " [6.5 2.8 4.6 1.5 'versicolor']\n",
      " [5.0 3.0 1.6 0.2 'setosa']\n",
      " [5.8 2.7 3.9 1.2 'versicolor']\n",
      " [5.6 2.9 3.6 1.3 'versicolor']\n",
      " [5.4 3.4 1.5 0.4 'setosa']\n",
      " [5.4 3.0 4.5 1.5 'versicolor']\n",
      " [6.9 3.1 4.9 1.5 'versicolor']\n",
      " [4.8 3.1 1.6 0.2 'setosa']\n",
      " [5.5 2.6 4.4 1.2 'versicolor']\n",
      " [6.0 2.7 5.1 1.6 'versicolor']\n",
      " [4.7 3.2 1.6 0.2 'setosa']\n",
      " [5.7 4.4 1.5 0.4 'setosa']\n",
      " [5.1 3.8 1.5 0.3 'setosa']\n",
      " [6.7 3.0 5.0 1.7 'versicolor']\n",
      " [6.4 3.2 4.5 1.5 'versicolor']\n",
      " [4.6 3.2 1.4 0.2 'setosa']\n",
      " [4.3 3.0 1.1 0.1 'setosa']\n",
      " [6.0 2.2 4.0 1.0 'versicolor']\n",
      " [6.3 2.5 4.9 1.5 'versicolor']\n",
      " [4.9 3.1 1.5 0.2 'setosa']\n",
      " [6.6 3.0 4.4 1.4 'versicolor']\n",
      " [5.7 2.9 4.2 1.3 'versicolor']\n",
      " [6.0 2.9 4.5 1.5 'versicolor']\n",
      " [4.7 3.2 1.3 0.2 'setosa']\n",
      " [6.1 2.8 4.0 1.3 'versicolor']\n",
      " [5.6 3.0 4.1 1.3 'versicolor']\n",
      " [6.0 3.4 4.5 1.6 'versicolor']\n",
      " [6.2 2.9 4.3 1.3 'versicolor']\n",
      " [5.8 2.7 4.1 1.0 'versicolor']\n",
      " [5.6 2.7 4.2 1.3 'versicolor']\n",
      " [5.5 2.5 4.0 1.3 'versicolor']\n",
      " [5.0 3.4 1.5 0.2 'setosa']\n",
      " [6.2 2.2 4.5 1.5 'versicolor']\n",
      " [5.4 3.9 1.3 0.4 'setosa']\n",
      " [5.5 3.5 1.3 0.2 'setosa']\n",
      " [5.4 3.4 1.7 0.2 'setosa']\n",
      " [4.4 2.9 1.4 0.2 'setosa']\n",
      " [4.9 3.0 1.4 0.2 'setosa']\n",
      " [5.0 3.4 1.6 0.4 'setosa']\n",
      " [5.2 4.1 1.5 0.1 'setosa']\n",
      " [4.6 3.6 1.0 0.2 'setosa']\n",
      " [5.0 3.2 1.2 0.2 'setosa']\n",
      " [4.6 3.4 1.4 0.3 'setosa']\n",
      " [6.3 3.3 4.7 1.6 'versicolor']\n",
      " [5.0 2.3 3.3 1.0 'versicolor']\n",
      " [5.1 3.4 1.5 0.2 'setosa']\n",
      " [6.4 2.9 4.3 1.3 'versicolor']\n",
      " [6.7 3.1 4.4 1.4 'versicolor']\n",
      " [6.6 2.9 4.6 1.3 'versicolor']\n",
      " [5.9 3.0 4.2 1.5 'versicolor']\n",
      " [4.6 3.1 1.5 0.2 'setosa']\n",
      " [5.1 2.5 3.0 1.1 'versicolor']\n",
      " [5.7 2.8 4.1 1.3 'versicolor']\n",
      " [5.7 3.0 4.2 1.2 'versicolor']\n",
      " [5.8 2.6 4.0 1.2 'versicolor']\n",
      " [5.3 3.7 1.5 0.2 'setosa']\n",
      " [5.0 2.0 3.5 1.0 'versicolor']\n",
      " [5.2 3.5 1.5 0.2 'setosa']\n",
      " [5.7 2.8 4.5 1.3 'versicolor']\n",
      " [5.1 3.3 1.7 0.5 'setosa']\n",
      " [5.4 3.7 1.5 0.2 'setosa']\n",
      " [6.3 2.3 4.4 1.3 'versicolor']\n",
      " [5.6 3.0 4.5 1.5 'versicolor']\n",
      " [5.1 3.5 1.4 0.2 'setosa']\n",
      " [4.8 3.4 1.9 0.2 'setosa']\n",
      " [4.9 3.1 1.5 0.1 'setosa']\n",
      " [5.1 3.7 1.5 0.4 'setosa']\n",
      " [5.2 2.7 3.9 1.4 'versicolor']\n",
      " [5.5 4.2 1.4 0.2 'setosa']\n",
      " [4.5 2.3 1.3 0.3 'setosa']\n",
      " [4.4 3.2 1.3 0.2 'setosa']\n",
      " [7.0 3.2 4.7 1.4 'versicolor']\n",
      " [4.8 3.0 1.4 0.1 'setosa']\n",
      " [4.9 3.6 1.4 0.1 'setosa']\n",
      " [4.9 2.4 3.3 1.0 'versicolor']\n",
      " [5.5 2.4 3.7 1.0 'versicolor']\n",
      " [5.1 3.8 1.6 0.2 'setosa']\n",
      " [5.0 3.5 1.6 0.6 'setosa']\n",
      " [5.5 2.4 3.8 1.1 'versicolor']\n",
      " [4.8 3.0 1.4 0.3 'setosa']]\n"
     ]
    }
   ],
   "source": [
    "data_training = data_training.rename_axis('ID').values\n",
    "\n",
    "print(data_training)"
   ]
  },
  {
   "cell_type": "code",
   "execution_count": 21,
   "metadata": {
    "id": "0Aq_jMAFEhkG",
    "outputId": "091e6c66-4e92-4291-d2e2-6b830e286168",
    "scrolled": true
   },
   "outputs": [
    {
     "name": "stdout",
     "output_type": "stream",
     "text": [
      "Epoch 0\n",
      "Adjusted weights: [-2.7645516956150447, 2.704967095149068, 3.5843970855997633, -1.6167931836008376, -3.988473246000753]\n",
      "Adjusted weights: [-3.7645516956150447, -2.8950329048509316, 1.0843970855997633, -5.5167931836008375, -5.088473246000753]\n",
      "Adjusted weights: [-2.7645516956150447, 2.204967095149068, 4.884397085599764, -3.6167931836008376, -4.688473246000752]\n",
      "Adjusted weights: [-3.7645516956150447, -3.8950329048509316, 1.8843970855997636, -8.216793183600837, -6.088473246000753]\n",
      "Adjusted weights: [-2.7645516956150447, 1.204967095149068, 5.384397085599764, -6.816793183600836, -5.788473246000753]\n",
      "Final weights from epoch 0: [-2.7645516956150447, 1.204967095149068, 5.384397085599764, -6.816793183600836, -5.788473246000753]\n",
      "Final weights from training: [-2.7645516956150447, 1.204967095149068, 5.384397085599764, -6.816793183600836, -5.788473246000753]\n"
     ]
    }
   ],
   "source": [
    "perceptron.train(data_training, epochs=1)\n",
    "print('Final weights from training: {}'.format(perceptron.weights))"
   ]
  },
  {
   "cell_type": "markdown",
   "metadata": {
    "id": "RsGSOczkEhkJ"
   },
   "source": [
    "Ya que quedó entrenado!, ahora podemos verificar que tan buenos resultados nos dan estos weights, e imprimimos el error."
   ]
  },
  {
   "cell_type": "code",
   "execution_count": 22,
   "metadata": {
    "id": "U0uGMjPrEhkJ",
    "outputId": "bde85fe3-0efb-4aaa-ca17-ae7b3240a229"
   },
   "outputs": [
    {
     "name": "stdout",
     "output_type": "stream",
     "text": [
      "[[5.0 3.6 1.4 0.2 'setosa']\n",
      " [5.6 2.5 3.9 1.1 'versicolor']\n",
      " [6.1 2.8 4.7 1.2 'versicolor']\n",
      " [6.1 2.9 4.7 1.4 'versicolor']\n",
      " [5.1 3.8 1.9 0.4 'setosa']\n",
      " [6.1 3.0 4.6 1.4 'versicolor']\n",
      " [5.1 3.5 1.4 0.3 'setosa']\n",
      " [5.7 3.8 1.7 0.3 'setosa']\n",
      " [4.4 3.0 1.3 0.2 'setosa']\n",
      " [5.7 2.6 3.5 1.0 'versicolor']\n",
      " [6.5 2.8 4.6 1.5 'versicolor']\n",
      " [5.0 3.0 1.6 0.2 'setosa']\n",
      " [5.8 2.7 3.9 1.2 'versicolor']\n",
      " [5.6 2.9 3.6 1.3 'versicolor']\n",
      " [5.4 3.4 1.5 0.4 'setosa']\n",
      " [5.4 3.0 4.5 1.5 'versicolor']\n",
      " [6.9 3.1 4.9 1.5 'versicolor']\n",
      " [4.8 3.1 1.6 0.2 'setosa']\n",
      " [5.5 2.6 4.4 1.2 'versicolor']\n",
      " [6.0 2.7 5.1 1.6 'versicolor']\n",
      " [4.7 3.2 1.6 0.2 'setosa']\n",
      " [5.7 4.4 1.5 0.4 'setosa']\n",
      " [5.1 3.8 1.5 0.3 'setosa']\n",
      " [6.7 3.0 5.0 1.7 'versicolor']\n",
      " [6.4 3.2 4.5 1.5 'versicolor']\n",
      " [4.6 3.2 1.4 0.2 'setosa']\n",
      " [4.3 3.0 1.1 0.1 'setosa']\n",
      " [6.0 2.2 4.0 1.0 'versicolor']\n",
      " [6.3 2.5 4.9 1.5 'versicolor']\n",
      " [4.9 3.1 1.5 0.2 'setosa']\n",
      " [6.6 3.0 4.4 1.4 'versicolor']\n",
      " [5.7 2.9 4.2 1.3 'versicolor']\n",
      " [6.0 2.9 4.5 1.5 'versicolor']\n",
      " [4.7 3.2 1.3 0.2 'setosa']\n",
      " [6.1 2.8 4.0 1.3 'versicolor']\n",
      " [5.6 3.0 4.1 1.3 'versicolor']\n",
      " [6.0 3.4 4.5 1.6 'versicolor']\n",
      " [6.2 2.9 4.3 1.3 'versicolor']\n",
      " [5.8 2.7 4.1 1.0 'versicolor']\n",
      " [5.6 2.7 4.2 1.3 'versicolor']\n",
      " [5.5 2.5 4.0 1.3 'versicolor']\n",
      " [5.0 3.4 1.5 0.2 'setosa']\n",
      " [6.2 2.2 4.5 1.5 'versicolor']\n",
      " [5.4 3.9 1.3 0.4 'setosa']\n",
      " [5.5 3.5 1.3 0.2 'setosa']\n",
      " [5.4 3.4 1.7 0.2 'setosa']\n",
      " [4.4 2.9 1.4 0.2 'setosa']\n",
      " [4.9 3.0 1.4 0.2 'setosa']\n",
      " [5.0 3.4 1.6 0.4 'setosa']\n",
      " [5.2 4.1 1.5 0.1 'setosa']\n",
      " [4.6 3.6 1.0 0.2 'setosa']\n",
      " [5.0 3.2 1.2 0.2 'setosa']\n",
      " [4.6 3.4 1.4 0.3 'setosa']\n",
      " [6.3 3.3 4.7 1.6 'versicolor']\n",
      " [5.0 2.3 3.3 1.0 'versicolor']\n",
      " [5.1 3.4 1.5 0.2 'setosa']\n",
      " [6.4 2.9 4.3 1.3 'versicolor']\n",
      " [6.7 3.1 4.4 1.4 'versicolor']\n",
      " [6.6 2.9 4.6 1.3 'versicolor']\n",
      " [5.9 3.0 4.2 1.5 'versicolor']\n",
      " [4.6 3.1 1.5 0.2 'setosa']\n",
      " [5.1 2.5 3.0 1.1 'versicolor']\n",
      " [5.7 2.8 4.1 1.3 'versicolor']\n",
      " [5.7 3.0 4.2 1.2 'versicolor']\n",
      " [5.8 2.6 4.0 1.2 'versicolor']\n",
      " [5.3 3.7 1.5 0.2 'setosa']\n",
      " [5.0 2.0 3.5 1.0 'versicolor']\n",
      " [5.2 3.5 1.5 0.2 'setosa']\n",
      " [5.7 2.8 4.5 1.3 'versicolor']\n",
      " [5.1 3.3 1.7 0.5 'setosa']\n",
      " [5.4 3.7 1.5 0.2 'setosa']\n",
      " [6.3 2.3 4.4 1.3 'versicolor']\n",
      " [5.6 3.0 4.5 1.5 'versicolor']\n",
      " [5.1 3.5 1.4 0.2 'setosa']\n",
      " [4.8 3.4 1.9 0.2 'setosa']\n",
      " [4.9 3.1 1.5 0.1 'setosa']\n",
      " [5.1 3.7 1.5 0.4 'setosa']\n",
      " [5.2 2.7 3.9 1.4 'versicolor']\n",
      " [5.5 4.2 1.4 0.2 'setosa']\n",
      " [4.5 2.3 1.3 0.3 'setosa']\n",
      " [4.4 3.2 1.3 0.2 'setosa']\n",
      " [7.0 3.2 4.7 1.4 'versicolor']\n",
      " [4.8 3.0 1.4 0.1 'setosa']\n",
      " [4.9 3.6 1.4 0.1 'setosa']\n",
      " [4.9 2.4 3.3 1.0 'versicolor']\n",
      " [5.5 2.4 3.7 1.0 'versicolor']\n",
      " [5.1 3.8 1.6 0.2 'setosa']\n",
      " [5.0 3.5 1.6 0.6 'setosa']\n",
      " [5.5 2.4 3.8 1.1 'versicolor']\n",
      " [4.8 3.0 1.4 0.3 'setosa']]\n"
     ]
    }
   ],
   "source": [
    "data_verification = data_verification.rename_axis('ID').values\n",
    "\n",
    "print(data_verification)"
   ]
  },
  {
   "cell_type": "code",
   "execution_count": 23,
   "metadata": {
    "id": "Pe6UIukcEhkM",
    "outputId": "e90caaab-ae91-4b2b-dc50-7c2caaef5f69"
   },
   "outputs": [
    {
     "name": "stdout",
     "output_type": "stream",
     "text": [
      "Error: 0.0 %\n"
     ]
    }
   ],
   "source": [
    "accuracy = perceptron.verify(data_verification)\n",
    "\n",
    "print('Error: {} %'.format(100-accuracy))"
   ]
  },
  {
   "cell_type": "markdown",
   "metadata": {
    "id": "ezLGdItwEhkO"
   },
   "source": [
    "La predicción del perceptrón te entregará un 1 o un -1, el cual está asociado a la clase, en mi caso, iris-setosa o iris-versicolor.\n",
    "\n",
    "Ahora, necesito explicar que el perceptrón no siempre va a dar los mejores resultados, depende si son linealmente separables o no. Para darte una idea, aquí esta la gráfica de sólo dos de los cuatro atributos de las especies. Puedes notar que la setosa y la versicolor son linealmente separables al igual que la setosa y la virginica. Pero la versicolor y la virginica NO son completamente separables, por lo general el perceptrón tendrá unos cuantos errores."
   ]
  },
  {
   "cell_type": "code",
   "execution_count": 25,
   "metadata": {
    "id": "euZAxQXAEhkO",
    "outputId": "4de22808-270d-4118-dfa5-04dede7a0ed4"
   },
   "outputs": [
    {
     "data": {
      "image/png": "[encoded data removed]",
      "text/plain": [
       "<Figure size 943.125x864 with 20 Axes>"
      ]
     },
     "metadata": {},
     "output_type": "display_data"
    }
   ],
   "source": [
    "\n",
    "sns.set_style(\"whitegrid\")\n",
    "sns.pairplot(iris,hue=\"species\",height=3);\n",
    "plt.show()"
   ]
  },
  {
   "cell_type": "markdown",
   "metadata": {
    "id": "WsxPtMAuEhkQ"
   },
   "source": [
    "Intentemos con la otra combinación!\n",
    "\n",
    "![img](https://media0.giphy.com/media/j9djzcMmzg8ow/giphy.gif)"
   ]
  },
  {
   "cell_type": "markdown",
   "metadata": {
    "id": "8WxBGalkEhkQ"
   },
   "source": [
    "#Aquí sus códigos!"
   ]
  },
  {
   "cell_type": "code",
   "execution_count": 93,
   "metadata": {},
   "outputs": [
    {
     "data": {
      "text/html": [
       "<div>\n",
       "<style scoped>\n",
       "    .dataframe tbody tr th:only-of-type {\n",
       "        vertical-align: middle;\n",
       "    }\n",
       "\n",
       "    .dataframe tbody tr th {\n",
       "        vertical-align: top;\n",
       "    }\n",
       "\n",
       "    .dataframe thead th {\n",
       "        text-align: right;\n",
       "    }\n",
       "</style>\n",
       "<table border=\"1\" class=\"dataframe\">\n",
       "  <thead>\n",
       "    <tr style=\"text-align: right;\">\n",
       "      <th></th>\n",
       "      <th>sepal_length</th>\n",
       "      <th>sepal_width</th>\n",
       "      <th>petal_length</th>\n",
       "      <th>petal_width</th>\n",
       "      <th>species</th>\n",
       "    </tr>\n",
       "  </thead>\n",
       "  <tbody>\n",
       "    <tr>\n",
       "      <th>0</th>\n",
       "      <td>5.1</td>\n",
       "      <td>3.5</td>\n",
       "      <td>1.4</td>\n",
       "      <td>0.2</td>\n",
       "      <td>setosa</td>\n",
       "    </tr>\n",
       "    <tr>\n",
       "      <th>1</th>\n",
       "      <td>4.9</td>\n",
       "      <td>3.0</td>\n",
       "      <td>1.4</td>\n",
       "      <td>0.2</td>\n",
       "      <td>setosa</td>\n",
       "    </tr>\n",
       "    <tr>\n",
       "      <th>2</th>\n",
       "      <td>4.7</td>\n",
       "      <td>3.2</td>\n",
       "      <td>1.3</td>\n",
       "      <td>0.2</td>\n",
       "      <td>setosa</td>\n",
       "    </tr>\n",
       "    <tr>\n",
       "      <th>3</th>\n",
       "      <td>4.6</td>\n",
       "      <td>3.1</td>\n",
       "      <td>1.5</td>\n",
       "      <td>0.2</td>\n",
       "      <td>setosa</td>\n",
       "    </tr>\n",
       "    <tr>\n",
       "      <th>4</th>\n",
       "      <td>5.0</td>\n",
       "      <td>3.6</td>\n",
       "      <td>1.4</td>\n",
       "      <td>0.2</td>\n",
       "      <td>setosa</td>\n",
       "    </tr>\n",
       "    <tr>\n",
       "      <th>...</th>\n",
       "      <td>...</td>\n",
       "      <td>...</td>\n",
       "      <td>...</td>\n",
       "      <td>...</td>\n",
       "      <td>...</td>\n",
       "    </tr>\n",
       "    <tr>\n",
       "      <th>145</th>\n",
       "      <td>6.7</td>\n",
       "      <td>3.0</td>\n",
       "      <td>5.2</td>\n",
       "      <td>2.3</td>\n",
       "      <td>virginica</td>\n",
       "    </tr>\n",
       "    <tr>\n",
       "      <th>146</th>\n",
       "      <td>6.3</td>\n",
       "      <td>2.5</td>\n",
       "      <td>5.0</td>\n",
       "      <td>1.9</td>\n",
       "      <td>virginica</td>\n",
       "    </tr>\n",
       "    <tr>\n",
       "      <th>147</th>\n",
       "      <td>6.5</td>\n",
       "      <td>3.0</td>\n",
       "      <td>5.2</td>\n",
       "      <td>2.0</td>\n",
       "      <td>virginica</td>\n",
       "    </tr>\n",
       "    <tr>\n",
       "      <th>148</th>\n",
       "      <td>6.2</td>\n",
       "      <td>3.4</td>\n",
       "      <td>5.4</td>\n",
       "      <td>2.3</td>\n",
       "      <td>virginica</td>\n",
       "    </tr>\n",
       "    <tr>\n",
       "      <th>149</th>\n",
       "      <td>5.9</td>\n",
       "      <td>3.0</td>\n",
       "      <td>5.1</td>\n",
       "      <td>1.8</td>\n",
       "      <td>virginica</td>\n",
       "    </tr>\n",
       "  </tbody>\n",
       "</table>\n",
       "<p>150 rows × 5 columns</p>\n",
       "</div>"
      ],
      "text/plain": [
       "     sepal_length  sepal_width  petal_length  petal_width    species\n",
       "0             5.1          3.5           1.4          0.2     setosa\n",
       "1             4.9          3.0           1.4          0.2     setosa\n",
       "2             4.7          3.2           1.3          0.2     setosa\n",
       "3             4.6          3.1           1.5          0.2     setosa\n",
       "4             5.0          3.6           1.4          0.2     setosa\n",
       "..            ...          ...           ...          ...        ...\n",
       "145           6.7          3.0           5.2          2.3  virginica\n",
       "146           6.3          2.5           5.0          1.9  virginica\n",
       "147           6.5          3.0           5.2          2.0  virginica\n",
       "148           6.2          3.4           5.4          2.3  virginica\n",
       "149           5.9          3.0           5.1          1.8  virginica\n",
       "\n",
       "[150 rows x 5 columns]"
      ]
     },
     "execution_count": 93,
     "metadata": {},
     "output_type": "execute_result"
    }
   ],
   "source": [
    "import pandas as pd\n",
    "import seaborn as sns \n",
    "  \n",
    "iris = sns.load_dataset('iris') \n",
    "iris"
   ]
  },
  {
   "cell_type": "code",
   "execution_count": 94,
   "metadata": {},
   "outputs": [
    {
     "name": "stdout",
     "output_type": "stream",
     "text": [
      "100\n",
      "<class 'pandas.core.frame.DataFrame'>\n"
     ]
    },
    {
     "data": {
      "text/html": [
       "<div>\n",
       "<style scoped>\n",
       "    .dataframe tbody tr th:only-of-type {\n",
       "        vertical-align: middle;\n",
       "    }\n",
       "\n",
       "    .dataframe tbody tr th {\n",
       "        vertical-align: top;\n",
       "    }\n",
       "\n",
       "    .dataframe thead th {\n",
       "        text-align: right;\n",
       "    }\n",
       "</style>\n",
       "<table border=\"1\" class=\"dataframe\">\n",
       "  <thead>\n",
       "    <tr style=\"text-align: right;\">\n",
       "      <th></th>\n",
       "      <th>sepal_length</th>\n",
       "      <th>sepal_width</th>\n",
       "      <th>petal_length</th>\n",
       "      <th>petal_width</th>\n",
       "      <th>species</th>\n",
       "    </tr>\n",
       "  </thead>\n",
       "  <tbody>\n",
       "    <tr>\n",
       "      <th>50</th>\n",
       "      <td>7.0</td>\n",
       "      <td>3.2</td>\n",
       "      <td>4.7</td>\n",
       "      <td>1.4</td>\n",
       "      <td>versicolor</td>\n",
       "    </tr>\n",
       "    <tr>\n",
       "      <th>51</th>\n",
       "      <td>6.4</td>\n",
       "      <td>3.2</td>\n",
       "      <td>4.5</td>\n",
       "      <td>1.5</td>\n",
       "      <td>versicolor</td>\n",
       "    </tr>\n",
       "    <tr>\n",
       "      <th>52</th>\n",
       "      <td>6.9</td>\n",
       "      <td>3.1</td>\n",
       "      <td>4.9</td>\n",
       "      <td>1.5</td>\n",
       "      <td>versicolor</td>\n",
       "    </tr>\n",
       "    <tr>\n",
       "      <th>53</th>\n",
       "      <td>5.5</td>\n",
       "      <td>2.3</td>\n",
       "      <td>4.0</td>\n",
       "      <td>1.3</td>\n",
       "      <td>versicolor</td>\n",
       "    </tr>\n",
       "    <tr>\n",
       "      <th>54</th>\n",
       "      <td>6.5</td>\n",
       "      <td>2.8</td>\n",
       "      <td>4.6</td>\n",
       "      <td>1.5</td>\n",
       "      <td>versicolor</td>\n",
       "    </tr>\n",
       "    <tr>\n",
       "      <th>...</th>\n",
       "      <td>...</td>\n",
       "      <td>...</td>\n",
       "      <td>...</td>\n",
       "      <td>...</td>\n",
       "      <td>...</td>\n",
       "    </tr>\n",
       "    <tr>\n",
       "      <th>145</th>\n",
       "      <td>6.7</td>\n",
       "      <td>3.0</td>\n",
       "      <td>5.2</td>\n",
       "      <td>2.3</td>\n",
       "      <td>virginica</td>\n",
       "    </tr>\n",
       "    <tr>\n",
       "      <th>146</th>\n",
       "      <td>6.3</td>\n",
       "      <td>2.5</td>\n",
       "      <td>5.0</td>\n",
       "      <td>1.9</td>\n",
       "      <td>virginica</td>\n",
       "    </tr>\n",
       "    <tr>\n",
       "      <th>147</th>\n",
       "      <td>6.5</td>\n",
       "      <td>3.0</td>\n",
       "      <td>5.2</td>\n",
       "      <td>2.0</td>\n",
       "      <td>virginica</td>\n",
       "    </tr>\n",
       "    <tr>\n",
       "      <th>148</th>\n",
       "      <td>6.2</td>\n",
       "      <td>3.4</td>\n",
       "      <td>5.4</td>\n",
       "      <td>2.3</td>\n",
       "      <td>virginica</td>\n",
       "    </tr>\n",
       "    <tr>\n",
       "      <th>149</th>\n",
       "      <td>5.9</td>\n",
       "      <td>3.0</td>\n",
       "      <td>5.1</td>\n",
       "      <td>1.8</td>\n",
       "      <td>virginica</td>\n",
       "    </tr>\n",
       "  </tbody>\n",
       "</table>\n",
       "<p>100 rows × 5 columns</p>\n",
       "</div>"
      ],
      "text/plain": [
       "     sepal_length  sepal_width  petal_length  petal_width     species\n",
       "50            7.0          3.2           4.7          1.4  versicolor\n",
       "51            6.4          3.2           4.5          1.5  versicolor\n",
       "52            6.9          3.1           4.9          1.5  versicolor\n",
       "53            5.5          2.3           4.0          1.3  versicolor\n",
       "54            6.5          2.8           4.6          1.5  versicolor\n",
       "..            ...          ...           ...          ...         ...\n",
       "145           6.7          3.0           5.2          2.3   virginica\n",
       "146           6.3          2.5           5.0          1.9   virginica\n",
       "147           6.5          3.0           5.2          2.0   virginica\n",
       "148           6.2          3.4           5.4          2.3   virginica\n",
       "149           5.9          3.0           5.1          1.8   virginica\n",
       "\n",
       "[100 rows x 5 columns]"
      ]
     },
     "execution_count": 94,
     "metadata": {},
     "output_type": "execute_result"
    }
   ],
   "source": [
    "import random\n",
    "data_with_two_species = iris.iloc[50:150,:]\n",
    "print(len(data_with_two_species))\n",
    "print(type(data_with_two_species))\n",
    "data_with_two_species"
   ]
  },
  {
   "cell_type": "code",
   "execution_count": 95,
   "metadata": {},
   "outputs": [
    {
     "data": {
      "text/html": [
       "<div>\n",
       "<style scoped>\n",
       "    .dataframe tbody tr th:only-of-type {\n",
       "        vertical-align: middle;\n",
       "    }\n",
       "\n",
       "    .dataframe tbody tr th {\n",
       "        vertical-align: top;\n",
       "    }\n",
       "\n",
       "    .dataframe thead th {\n",
       "        text-align: right;\n",
       "    }\n",
       "</style>\n",
       "<table border=\"1\" class=\"dataframe\">\n",
       "  <thead>\n",
       "    <tr style=\"text-align: right;\">\n",
       "      <th></th>\n",
       "      <th>sepal_length</th>\n",
       "      <th>sepal_width</th>\n",
       "      <th>petal_length</th>\n",
       "      <th>petal_width</th>\n",
       "      <th>species</th>\n",
       "    </tr>\n",
       "  </thead>\n",
       "  <tbody>\n",
       "    <tr>\n",
       "      <th>118</th>\n",
       "      <td>7.7</td>\n",
       "      <td>2.6</td>\n",
       "      <td>6.9</td>\n",
       "      <td>2.3</td>\n",
       "      <td>virginica</td>\n",
       "    </tr>\n",
       "    <tr>\n",
       "      <th>130</th>\n",
       "      <td>7.4</td>\n",
       "      <td>2.8</td>\n",
       "      <td>6.1</td>\n",
       "      <td>1.9</td>\n",
       "      <td>virginica</td>\n",
       "    </tr>\n",
       "    <tr>\n",
       "      <th>138</th>\n",
       "      <td>6.0</td>\n",
       "      <td>3.0</td>\n",
       "      <td>4.8</td>\n",
       "      <td>1.8</td>\n",
       "      <td>virginica</td>\n",
       "    </tr>\n",
       "    <tr>\n",
       "      <th>75</th>\n",
       "      <td>6.6</td>\n",
       "      <td>3.0</td>\n",
       "      <td>4.4</td>\n",
       "      <td>1.4</td>\n",
       "      <td>versicolor</td>\n",
       "    </tr>\n",
       "    <tr>\n",
       "      <th>107</th>\n",
       "      <td>7.3</td>\n",
       "      <td>2.9</td>\n",
       "      <td>6.3</td>\n",
       "      <td>1.8</td>\n",
       "      <td>virginica</td>\n",
       "    </tr>\n",
       "    <tr>\n",
       "      <th>...</th>\n",
       "      <td>...</td>\n",
       "      <td>...</td>\n",
       "      <td>...</td>\n",
       "      <td>...</td>\n",
       "      <td>...</td>\n",
       "    </tr>\n",
       "    <tr>\n",
       "      <th>105</th>\n",
       "      <td>7.6</td>\n",
       "      <td>3.0</td>\n",
       "      <td>6.6</td>\n",
       "      <td>2.1</td>\n",
       "      <td>virginica</td>\n",
       "    </tr>\n",
       "    <tr>\n",
       "      <th>110</th>\n",
       "      <td>6.5</td>\n",
       "      <td>3.2</td>\n",
       "      <td>5.1</td>\n",
       "      <td>2.0</td>\n",
       "      <td>virginica</td>\n",
       "    </tr>\n",
       "    <tr>\n",
       "      <th>86</th>\n",
       "      <td>6.7</td>\n",
       "      <td>3.1</td>\n",
       "      <td>4.7</td>\n",
       "      <td>1.5</td>\n",
       "      <td>versicolor</td>\n",
       "    </tr>\n",
       "    <tr>\n",
       "      <th>62</th>\n",
       "      <td>6.0</td>\n",
       "      <td>2.2</td>\n",
       "      <td>4.0</td>\n",
       "      <td>1.0</td>\n",
       "      <td>versicolor</td>\n",
       "    </tr>\n",
       "    <tr>\n",
       "      <th>126</th>\n",
       "      <td>6.2</td>\n",
       "      <td>2.8</td>\n",
       "      <td>4.8</td>\n",
       "      <td>1.8</td>\n",
       "      <td>virginica</td>\n",
       "    </tr>\n",
       "  </tbody>\n",
       "</table>\n",
       "<p>100 rows × 5 columns</p>\n",
       "</div>"
      ],
      "text/plain": [
       "     sepal_length  sepal_width  petal_length  petal_width     species\n",
       "118           7.7          2.6           6.9          2.3   virginica\n",
       "130           7.4          2.8           6.1          1.9   virginica\n",
       "138           6.0          3.0           4.8          1.8   virginica\n",
       "75            6.6          3.0           4.4          1.4  versicolor\n",
       "107           7.3          2.9           6.3          1.8   virginica\n",
       "..            ...          ...           ...          ...         ...\n",
       "105           7.6          3.0           6.6          2.1   virginica\n",
       "110           6.5          3.2           5.1          2.0   virginica\n",
       "86            6.7          3.1           4.7          1.5  versicolor\n",
       "62            6.0          2.2           4.0          1.0  versicolor\n",
       "126           6.2          2.8           4.8          1.8   virginica\n",
       "\n",
       "[100 rows x 5 columns]"
      ]
     },
     "execution_count": 95,
     "metadata": {},
     "output_type": "execute_result"
    }
   ],
   "source": [
    "from sklearn.utils import shuffle\n",
    "data_with_two_species = shuffle(data_with_two_species)\n",
    "data_with_two_species"
   ]
  },
  {
   "cell_type": "code",
   "execution_count": 96,
   "metadata": {},
   "outputs": [],
   "source": [
    "data_training = data_with_two_species.iloc[:90, :]\n",
    "data_verification = data_with_two_species.iloc[:-10, :]"
   ]
  },
  {
   "cell_type": "code",
   "execution_count": 97,
   "metadata": {
    "id": "x-6eWcBMEhkR"
   },
   "outputs": [],
   "source": [
    "perceptron2 = Perceptron(5, ['versicolor', 'virginica'])"
   ]
  },
  {
   "cell_type": "code",
   "execution_count": 98,
   "metadata": {
    "id": "xdAHx3TJEhkS"
   },
   "outputs": [
    {
     "name": "stdout",
     "output_type": "stream",
     "text": [
      "[[7.7 2.6 6.9 2.3 'virginica']\n",
      " [7.4 2.8 6.1 1.9 'virginica']\n",
      " [6.0 3.0 4.8 1.8 'virginica']\n",
      " [6.6 3.0 4.4 1.4 'versicolor']\n",
      " [7.3 2.9 6.3 1.8 'virginica']\n",
      " [5.4 3.0 4.5 1.5 'versicolor']\n",
      " [6.0 2.2 5.0 1.5 'virginica']\n",
      " [6.4 2.9 4.3 1.3 'versicolor']\n",
      " [6.5 3.0 5.8 2.2 'virginica']\n",
      " [5.7 2.8 4.1 1.3 'versicolor']\n",
      " [6.4 3.2 5.3 2.3 'virginica']\n",
      " [5.0 2.3 3.3 1.0 'versicolor']\n",
      " [6.1 3.0 4.6 1.4 'versicolor']\n",
      " [5.5 2.3 4.0 1.3 'versicolor']\n",
      " [6.3 2.7 4.9 1.8 'virginica']\n",
      " [6.9 3.1 5.1 2.3 'virginica']\n",
      " [6.8 3.0 5.5 2.1 'virginica']\n",
      " [6.3 3.3 4.7 1.6 'versicolor']\n",
      " [6.1 2.6 5.6 1.4 'virginica']\n",
      " [7.7 2.8 6.7 2.0 'virginica']\n",
      " [7.2 3.6 6.1 2.5 'virginica']\n",
      " [6.5 3.0 5.5 1.8 'virginica']\n",
      " [5.0 2.0 3.5 1.0 'versicolor']\n",
      " [6.8 3.2 5.9 2.3 'virginica']\n",
      " [6.3 2.3 4.4 1.3 'versicolor']\n",
      " [4.9 2.4 3.3 1.0 'versicolor']\n",
      " [6.4 3.1 5.5 1.8 'virginica']\n",
      " [6.9 3.1 5.4 2.1 'virginica']\n",
      " [5.8 2.7 3.9 1.2 'versicolor']\n",
      " [7.2 3.0 5.8 1.6 'virginica']\n",
      " [7.7 3.8 6.7 2.2 'virginica']\n",
      " [6.2 3.4 5.4 2.3 'virginica']\n",
      " [6.2 2.2 4.5 1.5 'versicolor']\n",
      " [5.6 2.8 4.9 2.0 'virginica']\n",
      " [6.4 2.8 5.6 2.1 'virginica']\n",
      " [6.7 3.1 4.4 1.4 'versicolor']\n",
      " [5.7 2.6 3.5 1.0 'versicolor']\n",
      " [5.2 2.7 3.9 1.4 'versicolor']\n",
      " [5.7 2.5 5.0 2.0 'virginica']\n",
      " [6.1 3.0 4.9 1.8 'virginica']\n",
      " [6.4 2.7 5.3 1.9 'virginica']\n",
      " [5.6 2.7 4.2 1.3 'versicolor']\n",
      " [6.2 2.9 4.3 1.3 'versicolor']\n",
      " [6.3 3.4 5.6 2.4 'virginica']\n",
      " [5.8 2.7 5.1 1.9 'virginica']\n",
      " [5.6 2.5 3.9 1.1 'versicolor']\n",
      " [6.7 3.3 5.7 2.1 'virginica']\n",
      " [5.5 2.4 3.8 1.1 'versicolor']\n",
      " [7.1 3.0 5.9 2.1 'virginica']\n",
      " [6.3 2.8 5.1 1.5 'virginica']\n",
      " [6.4 2.8 5.6 2.2 'virginica']\n",
      " [5.5 2.4 3.7 1.0 'versicolor']\n",
      " [6.7 3.1 5.6 2.4 'virginica']\n",
      " [5.7 2.8 4.5 1.3 'versicolor']\n",
      " [6.0 2.7 5.1 1.6 'versicolor']\n",
      " [5.6 2.9 3.6 1.3 'versicolor']\n",
      " [6.1 2.8 4.7 1.2 'versicolor']\n",
      " [5.7 3.0 4.2 1.2 'versicolor']\n",
      " [5.1 2.5 3.0 1.1 'versicolor']\n",
      " [5.8 2.7 4.1 1.0 'versicolor']\n",
      " [5.9 3.2 4.8 1.8 'versicolor']\n",
      " [6.4 3.2 4.5 1.5 'versicolor']\n",
      " [6.9 3.1 4.9 1.5 'versicolor']\n",
      " [6.9 3.2 5.7 2.3 'virginica']\n",
      " [5.9 3.0 4.2 1.5 'versicolor']\n",
      " [5.6 3.0 4.5 1.5 'versicolor']\n",
      " [6.0 3.4 4.5 1.6 'versicolor']\n",
      " [6.1 2.8 4.0 1.3 'versicolor']\n",
      " [5.6 3.0 4.1 1.3 'versicolor']\n",
      " [5.8 2.7 5.1 1.9 'virginica']\n",
      " [6.5 3.0 5.2 2.0 'virginica']\n",
      " [6.6 2.9 4.6 1.3 'versicolor']\n",
      " [6.7 3.0 5.2 2.3 'virginica']\n",
      " [5.7 2.9 4.2 1.3 'versicolor']\n",
      " [6.5 2.8 4.6 1.5 'versicolor']\n",
      " [6.3 3.3 6.0 2.5 'virginica']\n",
      " [7.9 3.8 6.4 2.0 'virginica']\n",
      " [5.8 2.6 4.0 1.2 'versicolor']\n",
      " [6.7 2.5 5.8 1.8 'virginica']\n",
      " [6.1 2.9 4.7 1.4 'versicolor']\n",
      " [6.0 2.9 4.5 1.5 'versicolor']\n",
      " [5.5 2.6 4.4 1.2 'versicolor']\n",
      " [5.9 3.0 5.1 1.8 'virginica']\n",
      " [5.8 2.8 5.1 2.4 'virginica']\n",
      " [4.9 2.5 4.5 1.7 'virginica']\n",
      " [6.7 3.3 5.7 2.5 'virginica']\n",
      " [7.7 3.0 6.1 2.3 'virginica']\n",
      " [5.5 2.5 4.0 1.3 'versicolor']\n",
      " [7.2 3.2 6.0 1.8 'virginica']\n",
      " [6.3 2.5 4.9 1.5 'versicolor']]\n"
     ]
    }
   ],
   "source": [
    "data_training = data_training.rename_axis('ID').values\n",
    "print(data_training)"
   ]
  },
  {
   "cell_type": "code",
   "execution_count": 99,
   "metadata": {
    "id": "5APTGW2sEhkV"
   },
   "outputs": [
    {
     "name": "stdout",
     "output_type": "stream",
     "text": [
      "Epoch 0\n",
      "Adjusted weights: [4.774836456929325, 6.345310063333528, 2.4687113861723553, 1.6114454426774047, 5.267068890982131]\n",
      "Adjusted weights: [3.774836456929325, -0.9546899366664716, -0.4312886138276446, -4.688554557322595, 3.467068890982131]\n",
      "Adjusted weights: [4.774836456929325, 4.445310063333529, 2.5687113861723554, -0.18855455732259507, 4.967068890982131]\n",
      "Adjusted weights: [3.774836456929325, -1.5546899366664713, 0.3687113861723552, -5.188554557322595, 3.467068890982131]\n",
      "Adjusted weights: [4.774836456929325, 4.845310063333529, 3.268711386172355, -0.8885545573225953, 4.767068890982131]\n",
      "Adjusted weights: [3.774836456929325, -1.654689936666471, 0.2687113861723551, -6.688554557322595, 2.5670688909821306]\n",
      "Adjusted weights: [4.774836456929325, 4.045310063333529, 3.068711386172355, -2.5885545573225954, 3.8670688909821305]\n",
      "Adjusted weights: [3.774836456929325, -2.354689936666471, -0.13128861382764523, -7.888554557322595, 1.5670688909821306]\n",
      "Adjusted weights: [4.774836456929325, 2.645310063333529, 2.1687113861723546, -4.588554557322595, 2.5670688909821306]\n",
      "Adjusted weights: [3.774836456929325, -3.654689936666471, -0.5312886138276456, -9.488554557322596, 0.7670688909821306]\n",
      "Adjusted weights: [4.774836456929325, 2.645310063333529, 2.7687113861723542, -4.788554557322596, 2.3670688909821305]\n",
      "Adjusted weights: [3.774836456929325, -3.4546899366664707, 0.16871138617235415, -10.388554557322596, 0.9670688909821306]\n",
      "Adjusted weights: [4.774836456929325, 1.5453100633335293, 2.168711386172354, -6.888554557322596, 1.9670688909821306]\n",
      "Adjusted weights: [5.774836456929325, 7.845310063333529, 4.4687113861723535, -2.488554557322596, 3.267068890982131]\n",
      "Adjusted weights: [4.774836456929325, 1.4453100633335287, 1.3687113861723534, -7.988554557322596, 1.4670688909821308]\n",
      "Adjusted weights: [5.774836456929325, 7.245310063333529, 4.068711386172353, -4.088554557322595, 2.6670688909821307]\n",
      "Adjusted weights: [4.774836456929325, 0.04531006333352838, 1.0687113861723532, -9.888554557322596, 1.0670688909821306]\n",
      "Adjusted weights: [5.774836456929325, 6.245310063333529, 3.2687113861723534, -5.388554557322596, 2.5670688909821306]\n",
      "Adjusted weights: [4.774836456929325, 0.6453100633335289, 0.46871138617235353, -10.288554557322596, 0.5670688909821306]\n",
      "Adjusted weights: [5.774836456929325, 7.345310063333529, 3.5687113861723536, -5.888554557322596, 1.9670688909821306]\n",
      "Adjusted weights: [4.774836456929325, 1.645310063333529, 1.0687113861723536, -10.888554557322596, -0.03293110901786944]\n",
      "Adjusted weights: [5.774836456929325, 7.245310063333529, 3.768711386172354, -6.688554557322596, 1.2670688909821306]\n",
      "Adjusted weights: [4.774836456929325, 0.9453100633335287, 0.3687113861723539, -12.288554557322595, -1.1329311090178693]\n",
      "Adjusted weights: [5.774836456929325, 6.545310063333528, 2.868711386172354, -8.388554557322594, -0.03293110901786922]\n",
      "Adjusted weights: [4.774836456929325, -0.1546899366664718, -0.43128861382764594, -14.088554557322595, -2.1329311090178695]\n",
      "Adjusted weights: [5.774836456929325, 5.345310063333528, 1.968711386172354, -10.288554557322595, -1.0329311090178694]\n",
      "Adjusted weights: [6.774836456929325, 11.045310063333527, 4.768711386172354, -5.788554557322595, 0.2670688909821306]\n",
      "Adjusted weights: [5.774836456929325, 4.145310063333527, 1.568711386172354, -11.488554557322594, -2.032931109017869]\n",
      "Adjusted weights: [6.774836456929325, 10.045310063333527, 4.568711386172354, -7.288554557322594, -0.532931109017869]\n",
      "Adjusted weights: [5.774836456929325, 4.245310063333528, 1.8687113861723539, -12.388554557322593, -2.432931109017869]\n",
      "Adjusted weights: [6.774836456929325, 10.845310063333528, 4.768711386172354, -7.788554557322593, -1.1329311090178689]\n",
      "Adjusted weights: [5.774836456929325, 4.145310063333528, 1.7687113861723542, -12.988554557322594, -3.4329311090178685]\n",
      "Adjusted weights: [6.774836456929325, 9.845310063333528, 4.668711386172355, -8.788554557322595, -2.1329311090178686]\n",
      "Adjusted weights: [5.774836456929325, 3.5453100633335284, 1.3687113861723548, -14.788554557322595, -4.632931109017869]\n",
      "Adjusted weights: [6.774836456929325, 9.345310063333528, 3.968711386172355, -10.788554557322595, -3.4329311090178685]\n",
      "Adjusted weights: [5.774836456929325, 2.645310063333528, 1.4687113861723549, -16.588554557322595, -5.232931109017868]\n",
      "Adjusted weights: [6.774836456929325, 8.745310063333527, 4.368711386172355, -11.888554557322596, -3.8329311090178684]\n",
      "Adjusted weights: [5.774836456929325, 2.8453100633335264, 1.3687113861723548, -16.988554557322594, -5.632931109017869]\n",
      "Adjusted weights: [6.774836456929325, 8.345310063333526, 3.8687113861723548, -12.988554557322594, -4.332931109017869]\n",
      "Adjusted weights: [7.774836456929325, 14.645310063333525, 6.368711386172355, -8.088554557322594, -2.832931109017869]\n",
      "Final weights from epoch 0: [7.774836456929325, 14.645310063333525, 6.368711386172355, -8.088554557322594, -2.832931109017869]\n",
      "Final weights from training: [7.774836456929325, 14.645310063333525, 6.368711386172355, -8.088554557322594, -2.832931109017869]\n"
     ]
    }
   ],
   "source": [
    "perceptron2.train(data_training, epochs=1)\n",
    "print('Final weights from training: {}'.format(perceptron2.weights))"
   ]
  },
  {
   "cell_type": "code",
   "execution_count": 100,
   "metadata": {
    "id": "Bj6b0UuQEhkX"
   },
   "outputs": [
    {
     "name": "stdout",
     "output_type": "stream",
     "text": [
      "[[7.7 2.6 6.9 2.3 'virginica']\n",
      " [7.4 2.8 6.1 1.9 'virginica']\n",
      " [6.0 3.0 4.8 1.8 'virginica']\n",
      " [6.6 3.0 4.4 1.4 'versicolor']\n",
      " [7.3 2.9 6.3 1.8 'virginica']\n",
      " [5.4 3.0 4.5 1.5 'versicolor']\n",
      " [6.0 2.2 5.0 1.5 'virginica']\n",
      " [6.4 2.9 4.3 1.3 'versicolor']\n",
      " [6.5 3.0 5.8 2.2 'virginica']\n",
      " [5.7 2.8 4.1 1.3 'versicolor']\n",
      " [6.4 3.2 5.3 2.3 'virginica']\n",
      " [5.0 2.3 3.3 1.0 'versicolor']\n",
      " [6.1 3.0 4.6 1.4 'versicolor']\n",
      " [5.5 2.3 4.0 1.3 'versicolor']\n",
      " [6.3 2.7 4.9 1.8 'virginica']\n",
      " [6.9 3.1 5.1 2.3 'virginica']\n",
      " [6.8 3.0 5.5 2.1 'virginica']\n",
      " [6.3 3.3 4.7 1.6 'versicolor']\n",
      " [6.1 2.6 5.6 1.4 'virginica']\n",
      " [7.7 2.8 6.7 2.0 'virginica']\n",
      " [7.2 3.6 6.1 2.5 'virginica']\n",
      " [6.5 3.0 5.5 1.8 'virginica']\n",
      " [5.0 2.0 3.5 1.0 'versicolor']\n",
      " [6.8 3.2 5.9 2.3 'virginica']\n",
      " [6.3 2.3 4.4 1.3 'versicolor']\n",
      " [4.9 2.4 3.3 1.0 'versicolor']\n",
      " [6.4 3.1 5.5 1.8 'virginica']\n",
      " [6.9 3.1 5.4 2.1 'virginica']\n",
      " [5.8 2.7 3.9 1.2 'versicolor']\n",
      " [7.2 3.0 5.8 1.6 'virginica']\n",
      " [7.7 3.8 6.7 2.2 'virginica']\n",
      " [6.2 3.4 5.4 2.3 'virginica']\n",
      " [6.2 2.2 4.5 1.5 'versicolor']\n",
      " [5.6 2.8 4.9 2.0 'virginica']\n",
      " [6.4 2.8 5.6 2.1 'virginica']\n",
      " [6.7 3.1 4.4 1.4 'versicolor']\n",
      " [5.7 2.6 3.5 1.0 'versicolor']\n",
      " [5.2 2.7 3.9 1.4 'versicolor']\n",
      " [5.7 2.5 5.0 2.0 'virginica']\n",
      " [6.1 3.0 4.9 1.8 'virginica']\n",
      " [6.4 2.7 5.3 1.9 'virginica']\n",
      " [5.6 2.7 4.2 1.3 'versicolor']\n",
      " [6.2 2.9 4.3 1.3 'versicolor']\n",
      " [6.3 3.4 5.6 2.4 'virginica']\n",
      " [5.8 2.7 5.1 1.9 'virginica']\n",
      " [5.6 2.5 3.9 1.1 'versicolor']\n",
      " [6.7 3.3 5.7 2.1 'virginica']\n",
      " [5.5 2.4 3.8 1.1 'versicolor']\n",
      " [7.1 3.0 5.9 2.1 'virginica']\n",
      " [6.3 2.8 5.1 1.5 'virginica']\n",
      " [6.4 2.8 5.6 2.2 'virginica']\n",
      " [5.5 2.4 3.7 1.0 'versicolor']\n",
      " [6.7 3.1 5.6 2.4 'virginica']\n",
      " [5.7 2.8 4.5 1.3 'versicolor']\n",
      " [6.0 2.7 5.1 1.6 'versicolor']\n",
      " [5.6 2.9 3.6 1.3 'versicolor']\n",
      " [6.1 2.8 4.7 1.2 'versicolor']\n",
      " [5.7 3.0 4.2 1.2 'versicolor']\n",
      " [5.1 2.5 3.0 1.1 'versicolor']\n",
      " [5.8 2.7 4.1 1.0 'versicolor']\n",
      " [5.9 3.2 4.8 1.8 'versicolor']\n",
      " [6.4 3.2 4.5 1.5 'versicolor']\n",
      " [6.9 3.1 4.9 1.5 'versicolor']\n",
      " [6.9 3.2 5.7 2.3 'virginica']\n",
      " [5.9 3.0 4.2 1.5 'versicolor']\n",
      " [5.6 3.0 4.5 1.5 'versicolor']\n",
      " [6.0 3.4 4.5 1.6 'versicolor']\n",
      " [6.1 2.8 4.0 1.3 'versicolor']\n",
      " [5.6 3.0 4.1 1.3 'versicolor']\n",
      " [5.8 2.7 5.1 1.9 'virginica']\n",
      " [6.5 3.0 5.2 2.0 'virginica']\n",
      " [6.6 2.9 4.6 1.3 'versicolor']\n",
      " [6.7 3.0 5.2 2.3 'virginica']\n",
      " [5.7 2.9 4.2 1.3 'versicolor']\n",
      " [6.5 2.8 4.6 1.5 'versicolor']\n",
      " [6.3 3.3 6.0 2.5 'virginica']\n",
      " [7.9 3.8 6.4 2.0 'virginica']\n",
      " [5.8 2.6 4.0 1.2 'versicolor']\n",
      " [6.7 2.5 5.8 1.8 'virginica']\n",
      " [6.1 2.9 4.7 1.4 'versicolor']\n",
      " [6.0 2.9 4.5 1.5 'versicolor']\n",
      " [5.5 2.6 4.4 1.2 'versicolor']\n",
      " [5.9 3.0 5.1 1.8 'virginica']\n",
      " [5.8 2.8 5.1 2.4 'virginica']\n",
      " [4.9 2.5 4.5 1.7 'virginica']\n",
      " [6.7 3.3 5.7 2.5 'virginica']\n",
      " [7.7 3.0 6.1 2.3 'virginica']\n",
      " [5.5 2.5 4.0 1.3 'versicolor']\n",
      " [7.2 3.2 6.0 1.8 'virginica']\n",
      " [6.3 2.5 4.9 1.5 'versicolor']]\n"
     ]
    }
   ],
   "source": [
    "data_verification = data_verification.rename_axis('ID').values\n",
    "print(data_verification)"
   ]
  },
  {
   "cell_type": "code",
   "execution_count": 101,
   "metadata": {},
   "outputs": [
    {
     "name": "stdout",
     "output_type": "stream",
     "text": [
      "Error: 50.0 %\n"
     ]
    }
   ],
   "source": [
    "accuracy = perceptron2.verify(data_verification)\n",
    "print('Error: {} %'.format(100-accuracy))"
   ]
  },
  {
   "cell_type": "markdown",
   "metadata": {},
   "source": [
    "* Bravo Martínez Ariel Miguel - 10018737\n",
    "* Ehrlich López Alexandra - 10018739\n",
    "* Hernández Jaramillo Kevin - 10018742"
   ]
  },
  {
   "cell_type": "code",
   "execution_count": null,
   "metadata": {},
   "outputs": [],
   "source": []
  }
 ],
 "metadata": {
  "colab": {
   "name": "Introduccion_Perceptron.ipynb",
   "provenance": []
  },
  "kernelspec": {
   "display_name": "Python 3",
   "language": "python",
   "name": "python3"
  },
  "language_info": {
   "codemirror_mode": {
    "name": "ipython",
    "version": 3
   },
   "file_extension": ".py",
   "mimetype": "text/x-python",
   "name": "python",
   "nbconvert_exporter": "python",
   "pygments_lexer": "ipython3",
   "version": "3.8.3"
  }
 },
 "nbformat": 4,
 "nbformat_minor": 4
}
